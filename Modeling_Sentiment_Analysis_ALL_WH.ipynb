{
 "cells": [
  {
   "cell_type": "code",
   "execution_count": 1,
   "metadata": {},
   "outputs": [],
   "source": [
    "# Data\n",
    "import numpy as np\n",
    "import pandas as pd\n",
    "\n",
    "# NLP\n",
    "import re\n",
    "import nltk\n",
    "from nltk.tokenize import word_tokenize\n",
    "from nltk.corpus import stopwords\n",
    "from nltk.stem import PorterStemmer\n",
    "from sklearn.model_selection import train_test_split, GridSearchCV, StratifiedKFold\n",
    "from sklearn.preprocessing import LabelEncoder, StandardScaler\n",
    "from sklearn.feature_extraction.text import CountVectorizer, TfidfVectorizer\n",
    "\n",
    "# Modeling\n",
    "from sklearn.naive_bayes import MultinomialNB\n",
    "from xgboost import XGBClassifier\n",
    "from sklearn.metrics import accuracy_score, precision_score, f1_score, classification_report, confusion_matrix\n",
    "from sklearn.utils import shuffle\n",
    "from sklearn import svm\n",
    "\n",
    "# plot\n",
    "import matplotlib.pyplot as plt\n",
    "\n",
    "ps = PorterStemmer()\n",
    "stopwords_english = set(stopwords.words('english'))"
   ]
  },
  {
   "cell_type": "markdown",
   "metadata": {},
   "source": [
    "# 1. Load Data "
   ]
  },
  {
   "cell_type": "code",
   "execution_count": 2,
   "metadata": {},
   "outputs": [],
   "source": [
    "PATH = \"./Data/All_Candidates/\"\n",
    "biden = pd.read_csv(PATH + 'Joe_Biden.csv')\n",
    "sanders = pd.read_csv(PATH + 'Bernie_Sanders.csv')\n",
    "trump = pd.read_csv(PATH + 'Donald_Trump.csv')"
   ]
  },
  {
   "cell_type": "code",
   "execution_count": 3,
   "metadata": {},
   "outputs": [
    {
     "data": {
      "text/html": [
       "<div>\n",
       "<style scoped>\n",
       "    .dataframe tbody tr th:only-of-type {\n",
       "        vertical-align: middle;\n",
       "    }\n",
       "\n",
       "    .dataframe tbody tr th {\n",
       "        vertical-align: top;\n",
       "    }\n",
       "\n",
       "    .dataframe thead th {\n",
       "        text-align: right;\n",
       "    }\n",
       "</style>\n",
       "<table border=\"1\" class=\"dataframe\">\n",
       "  <thead>\n",
       "    <tr style=\"text-align: right;\">\n",
       "      <th></th>\n",
       "      <th>title</th>\n",
       "      <th>text</th>\n",
       "      <th>media</th>\n",
       "      <th>word_count</th>\n",
       "      <th>candidate_name</th>\n",
       "    </tr>\n",
       "  </thead>\n",
       "  <tbody>\n",
       "    <tr>\n",
       "      <th>0</th>\n",
       "      <td>Primary Battles on the Right? They Seem Less S...</td>\n",
       "      <td>Hide highlightingFull TextTranslateUndo Transl...</td>\n",
       "      <td>New York Times</td>\n",
       "      <td>1880.0</td>\n",
       "      <td>Donald Trump</td>\n",
       "    </tr>\n",
       "    <tr>\n",
       "      <th>1</th>\n",
       "      <td>Collins Will Not Support Removal of the Presid...</td>\n",
       "      <td>Full TextTranslateUndo Translation FromToTrans...</td>\n",
       "      <td>New York Times</td>\n",
       "      <td>1066.0</td>\n",
       "      <td>Donald Trump</td>\n",
       "    </tr>\n",
       "    <tr>\n",
       "      <th>2</th>\n",
       "      <td>Trump's Legal Warrior Jabs Back at His Boss. I...</td>\n",
       "      <td>Hide highlightingFull TextTranslateUndo Transl...</td>\n",
       "      <td>New York Times</td>\n",
       "      <td>1578.0</td>\n",
       "      <td>Donald Trump</td>\n",
       "    </tr>\n",
       "    <tr>\n",
       "      <th>3</th>\n",
       "      <td>When America's Oddest Political Couple Fight, ...</td>\n",
       "      <td>Hide highlightingFull TextTranslateUndo Transl...</td>\n",
       "      <td>New York Times</td>\n",
       "      <td>1679.0</td>\n",
       "      <td>Donald Trump</td>\n",
       "    </tr>\n",
       "    <tr>\n",
       "      <th>4</th>\n",
       "      <td>Disagreement on Extent Of Moscow's Meddling: [...</td>\n",
       "      <td>Full TextTranslateUndo Translation FromToTrans...</td>\n",
       "      <td>New York Times</td>\n",
       "      <td>1090.0</td>\n",
       "      <td>Donald Trump</td>\n",
       "    </tr>\n",
       "  </tbody>\n",
       "</table>\n",
       "</div>"
      ],
      "text/plain": [
       "                                               title  \\\n",
       "0  Primary Battles on the Right? They Seem Less S...   \n",
       "1  Collins Will Not Support Removal of the Presid...   \n",
       "2  Trump's Legal Warrior Jabs Back at His Boss. I...   \n",
       "3  When America's Oddest Political Couple Fight, ...   \n",
       "4  Disagreement on Extent Of Moscow's Meddling: [...   \n",
       "\n",
       "                                                text           media  \\\n",
       "0  Hide highlightingFull TextTranslateUndo Transl...  New York Times   \n",
       "1  Full TextTranslateUndo Translation FromToTrans...  New York Times   \n",
       "2  Hide highlightingFull TextTranslateUndo Transl...  New York Times   \n",
       "3  Hide highlightingFull TextTranslateUndo Transl...  New York Times   \n",
       "4  Full TextTranslateUndo Translation FromToTrans...  New York Times   \n",
       "\n",
       "   word_count candidate_name  \n",
       "0      1880.0   Donald Trump  \n",
       "1      1066.0   Donald Trump  \n",
       "2      1578.0   Donald Trump  \n",
       "3      1679.0   Donald Trump  \n",
       "4      1090.0   Donald Trump  "
      ]
     },
     "execution_count": 3,
     "metadata": {},
     "output_type": "execute_result"
    }
   ],
   "source": [
    "trump.head()"
   ]
  },
  {
   "cell_type": "markdown",
   "metadata": {},
   "source": [
    "# 2. Hand Annotate Articles "
   ]
  },
  {
   "cell_type": "code",
   "execution_count": 4,
   "metadata": {},
   "outputs": [],
   "source": [
    "# hand annotation indicies\n",
    "# Biden\n",
    "positive_biden = [24, 27, 28, 35, 47, 48, 51, 57, 63, 72, 86, 98, 173, 198, 219, 268, 343, 358, 369, 420]\n",
    "\n",
    "negative_biden = [374,156,106,85,171,172,174,186,192,222,229,235,110,6,277,313,356,368,49]\n",
    "\n",
    "neutral_biden = [150,445,161,183,227,250,29,159,240,260,283,305,325,332,341,357,370,380,398,402]\n",
    "\n",
    "# Sanders\n",
    "positive_sanders = [4, 11, 12, 18, 27, 29, 31, 33, 37, 42, 48, 51, 60, 67, 70, 74, 76, 80, 85, 89]\n",
    "\n",
    "negative_sanders = [0, 5, 10, 15, 20, 22, 23, 28, 30, 35, 39, 41, 43, 46, 49, 50, 59, 61, 63, 66]\n",
    "\n",
    "neutral_sanders = [1, 2, 3, 6, 7, 9, 13, 16, 17, 19, 21, 24, 26, 32, 37, 38, 45, 47, 52, 75]\n",
    "\n",
    "# Trump\n",
    "positive_trump = [447,408, 395, 389, 377, 374, 372, 320, 321, 323, 324, 326, 344, 346, 348, 349, 355, 106, 338, 419]\n",
    "\n",
    "negative_trump = [448, 396, 394, 1, 2, 3, 6, 7, 9, 10, 11, 12, 17, 18, 100, 332, 120, 29, 30, 36, 48]\n",
    "\n",
    "neutral_trump = [443, 432, 418, 398, 373, 365, 364, 4, 5, 8, 14, 16, 19, 253, 300, 310, 325, 328, 341, 352]"
   ]
  },
  {
   "cell_type": "code",
   "execution_count": 5,
   "metadata": {},
   "outputs": [],
   "source": [
    "def generate_sentiments_df(candidate_df, positive_idx, negative_idx, neutral_idx):\n",
    "    # add labels\n",
    "    candidate_df['sentiment'] = \"labels\"\n",
    "    candidate_df.loc[positive_idx, ['sentiment']] = \"pos\"\n",
    "    candidate_df.loc[negative_idx, ['sentiment']] = \"neg\"\n",
    "    candidate_df.loc[neutral_idx, ['sentiment']] = \"neutral\"\n",
    "    # retain useful rows\n",
    "    candidate_df = candidate_df[candidate_df['sentiment'] != \"labels\"]\n",
    "    # select useful columns\n",
    "    df_new = candidate_df[['text', 'sentiment']]\n",
    "    return df_new\n"
   ]
  },
  {
   "cell_type": "code",
   "execution_count": 6,
   "metadata": {},
   "outputs": [],
   "source": [
    "biden_sentiment = generate_sentiments_df(candidate_df = biden, positive_idx = positive_biden,\n",
    "                                         negative_idx = negative_biden, neutral_idx = neutral_biden)\n",
    "sanders_sentiment = generate_sentiments_df(candidate_df = sanders, positive_idx = positive_sanders,\n",
    "                                         negative_idx = negative_sanders, neutral_idx = neutral_sanders)\n",
    "trump_sentiment = generate_sentiments_df(candidate_df = trump, positive_idx = positive_trump,\n",
    "                                         negative_idx = negative_trump, neutral_idx = neutral_trump)"
   ]
  },
  {
   "cell_type": "code",
   "execution_count": 7,
   "metadata": {},
   "outputs": [
    {
     "data": {
      "text/html": [
       "<div>\n",
       "<style scoped>\n",
       "    .dataframe tbody tr th:only-of-type {\n",
       "        vertical-align: middle;\n",
       "    }\n",
       "\n",
       "    .dataframe tbody tr th {\n",
       "        vertical-align: top;\n",
       "    }\n",
       "\n",
       "    .dataframe thead th {\n",
       "        text-align: right;\n",
       "    }\n",
       "</style>\n",
       "<table border=\"1\" class=\"dataframe\">\n",
       "  <thead>\n",
       "    <tr style=\"text-align: right;\">\n",
       "      <th></th>\n",
       "      <th>text</th>\n",
       "      <th>sentiment</th>\n",
       "    </tr>\n",
       "  </thead>\n",
       "  <tbody>\n",
       "    <tr>\n",
       "      <th>0</th>\n",
       "      <td>Hide highlightingFull TextTranslateUndo Transl...</td>\n",
       "      <td>neg</td>\n",
       "    </tr>\n",
       "    <tr>\n",
       "      <th>1</th>\n",
       "      <td>Hide highlightingFull TextTranslateUndo Transl...</td>\n",
       "      <td>pos</td>\n",
       "    </tr>\n",
       "    <tr>\n",
       "      <th>2</th>\n",
       "      <td>Hide highlightingFull TextTranslateUndo Transl...</td>\n",
       "      <td>pos</td>\n",
       "    </tr>\n",
       "    <tr>\n",
       "      <th>3</th>\n",
       "      <td>Hide highlightingAbstractTranslateUndo Transla...</td>\n",
       "      <td>pos</td>\n",
       "    </tr>\n",
       "    <tr>\n",
       "      <th>4</th>\n",
       "      <td>Hide highlightingFull TextTranslateUndo Transl...</td>\n",
       "      <td>neutral</td>\n",
       "    </tr>\n",
       "  </tbody>\n",
       "</table>\n",
       "</div>"
      ],
      "text/plain": [
       "                                                text sentiment\n",
       "0  Hide highlightingFull TextTranslateUndo Transl...       neg\n",
       "1  Hide highlightingFull TextTranslateUndo Transl...       pos\n",
       "2  Hide highlightingFull TextTranslateUndo Transl...       pos\n",
       "3  Hide highlightingAbstractTranslateUndo Transla...       pos\n",
       "4  Hide highlightingFull TextTranslateUndo Transl...   neutral"
      ]
     },
     "execution_count": 7,
     "metadata": {},
     "output_type": "execute_result"
    }
   ],
   "source": [
    "# concate all candidates dfs for modeling\n",
    "df = pd.concat([biden_sentiment, sanders_sentiment, trump_sentiment], axis = 0, ignore_index = True)\n",
    "df.head()"
   ]
  },
  {
   "cell_type": "code",
   "execution_count": 8,
   "metadata": {},
   "outputs": [
    {
     "data": {
      "text/html": [
       "<div>\n",
       "<style scoped>\n",
       "    .dataframe tbody tr th:only-of-type {\n",
       "        vertical-align: middle;\n",
       "    }\n",
       "\n",
       "    .dataframe tbody tr th {\n",
       "        vertical-align: top;\n",
       "    }\n",
       "\n",
       "    .dataframe thead th {\n",
       "        text-align: right;\n",
       "    }\n",
       "</style>\n",
       "<table border=\"1\" class=\"dataframe\">\n",
       "  <thead>\n",
       "    <tr style=\"text-align: right;\">\n",
       "      <th></th>\n",
       "      <th>text</th>\n",
       "    </tr>\n",
       "    <tr>\n",
       "      <th>sentiment</th>\n",
       "      <th></th>\n",
       "    </tr>\n",
       "  </thead>\n",
       "  <tbody>\n",
       "    <tr>\n",
       "      <th>neg</th>\n",
       "      <td>60</td>\n",
       "    </tr>\n",
       "    <tr>\n",
       "      <th>neutral</th>\n",
       "      <td>60</td>\n",
       "    </tr>\n",
       "    <tr>\n",
       "      <th>pos</th>\n",
       "      <td>59</td>\n",
       "    </tr>\n",
       "  </tbody>\n",
       "</table>\n",
       "</div>"
      ],
      "text/plain": [
       "           text\n",
       "sentiment      \n",
       "neg          60\n",
       "neutral      60\n",
       "pos          59"
      ]
     },
     "execution_count": 8,
     "metadata": {},
     "output_type": "execute_result"
    }
   ],
   "source": [
    "# check\n",
    "df.groupby('sentiment').count()"
   ]
  },
  {
   "cell_type": "markdown",
   "metadata": {},
   "source": [
    "# 3. Data Preprocessing"
   ]
  },
  {
   "cell_type": "code",
   "execution_count": 9,
   "metadata": {},
   "outputs": [],
   "source": [
    "def Data_Preprocessing(corpus):\n",
    "    # convert string to list i.e. ['hide', 'highlightingfull', '[[missing']\n",
    "    corpus['text'] = corpus['text'].str.split()\n",
    "\n",
    "    # lower case each item in the list, and remove non-alphabetic characters i.e. ['hide', 'highlightingfull', 'missing']\n",
    "    corpus['text'] = corpus['text'].apply(lambda x: [re.sub(r'[^a-zA-Z]', \"\",y.lower()) for y in x])\n",
    "\n",
    "    # stem each word in the text\n",
    "    corpus['text'] = corpus['text'].apply(lambda x: [ps.stem(y) for y in x])\n",
    "\n",
    "    # join the item in the list back to a string\n",
    "    corpus['text'] = corpus['text'].apply(lambda x: [' '.join(x)])\n",
    "\n",
    "    # convert list to a string\n",
    "    corpus['text'] = corpus['text'].apply(lambda x: str(x[0]))\n",
    "\n",
    "    print(type(corpus.iloc[0]['text']))\n",
    "    \n",
    "    return corpus"
   ]
  },
  {
   "cell_type": "code",
   "execution_count": 10,
   "metadata": {},
   "outputs": [
    {
     "name": "stdout",
     "output_type": "stream",
     "text": [
      "<class 'str'>\n"
     ]
    },
    {
     "data": {
      "text/html": [
       "<div>\n",
       "<style scoped>\n",
       "    .dataframe tbody tr th:only-of-type {\n",
       "        vertical-align: middle;\n",
       "    }\n",
       "\n",
       "    .dataframe tbody tr th {\n",
       "        vertical-align: top;\n",
       "    }\n",
       "\n",
       "    .dataframe thead th {\n",
       "        text-align: right;\n",
       "    }\n",
       "</style>\n",
       "<table border=\"1\" class=\"dataframe\">\n",
       "  <thead>\n",
       "    <tr style=\"text-align: right;\">\n",
       "      <th></th>\n",
       "      <th>text</th>\n",
       "      <th>sentiment</th>\n",
       "    </tr>\n",
       "  </thead>\n",
       "  <tbody>\n",
       "    <tr>\n",
       "      <th>0</th>\n",
       "      <td>hide highlightingful texttranslateundo transla...</td>\n",
       "      <td>neg</td>\n",
       "    </tr>\n",
       "    <tr>\n",
       "      <th>1</th>\n",
       "      <td>hide highlightingful texttranslateundo transla...</td>\n",
       "      <td>pos</td>\n",
       "    </tr>\n",
       "  </tbody>\n",
       "</table>\n",
       "</div>"
      ],
      "text/plain": [
       "                                                text sentiment\n",
       "0  hide highlightingful texttranslateundo transla...       neg\n",
       "1  hide highlightingful texttranslateundo transla...       pos"
      ]
     },
     "execution_count": 10,
     "metadata": {},
     "output_type": "execute_result"
    }
   ],
   "source": [
    "processed_sentiment_corpus = Data_Preprocessing(df)\n",
    "processed_sentiment_corpus.head(2)"
   ]
  },
  {
   "cell_type": "markdown",
   "metadata": {},
   "source": [
    "# 4. Modeling"
   ]
  },
  {
   "cell_type": "markdown",
   "metadata": {},
   "source": [
    "## 4.1 Split training and test sets"
   ]
  },
  {
   "cell_type": "code",
   "execution_count": 11,
   "metadata": {},
   "outputs": [
    {
     "data": {
      "text/plain": [
       "22    full texttranslateundo translat fromtotranslat...\n",
       "31    hide highlightingful texttranslateundo transla...\n",
       "Name: text, dtype: object"
      ]
     },
     "execution_count": 11,
     "metadata": {},
     "output_type": "execute_result"
    }
   ],
   "source": [
    "# separate features and targets\n",
    "X = processed_sentiment_corpus.iloc[:, 0]\n",
    "y = processed_sentiment_corpus.iloc[:, 1]\n",
    "\n",
    "# split the dataset into training and test sets\n",
    "X_train, X_test, y_train, y_test = train_test_split(X, y, test_size = 0.2, stratify = y, random_state=0)\n",
    "#X_train, y_train = shuffle(X_train, y_train)\n",
    "\n",
    "X_train.head(2)"
   ]
  },
  {
   "cell_type": "code",
   "execution_count": 12,
   "metadata": {},
   "outputs": [
    {
     "name": "stdout",
     "output_type": "stream",
     "text": [
      "{'neg': 0, 'neutral': 1, 'pos': 2}\n"
     ]
    }
   ],
   "source": [
    "le = LabelEncoder()\n",
    "# get label name mapping\n",
    "le.fit(y_train)\n",
    "le_name_mapping = dict(zip(le.classes_, le.transform(le.classes_)))\n",
    "print(le_name_mapping)\n",
    "\n",
    "# encode the target \n",
    "y_train = le.fit_transform(y_train)\n",
    "y_test = le.fit_transform(y_test)"
   ]
  },
  {
   "cell_type": "markdown",
   "metadata": {},
   "source": [
    "## 4.2 Getting document term matrices"
   ]
  },
  {
   "cell_type": "markdown",
   "metadata": {},
   "source": [
    "### 4.2.1 Create matrix of token counts using unigram, bigram and trigram tokens"
   ]
  },
  {
   "cell_type": "code",
   "execution_count": 13,
   "metadata": {},
   "outputs": [],
   "source": [
    "# define a function to get unigram, bigram, and trigram matrix of token counts\n",
    "\n",
    "def get_DTM(Ngram_range, x_train, x_test):\n",
    "    vectorizer = CountVectorizer(stop_words='english', min_df = int(3), max_df = 0.5, \n",
    "                                 ngram_range = Ngram_range, binary=True) \n",
    "    vectorizer.fit(x_train)\n",
    "    trans_x_train = vectorizer.transform(x_train)\n",
    "    trans_x_test = vectorizer.transform(x_test)\n",
    "    \n",
    "    return trans_x_train, trans_x_test"
   ]
  },
  {
   "cell_type": "code",
   "execution_count": 14,
   "metadata": {},
   "outputs": [],
   "source": [
    "# unigram token counts matrix\n",
    "binary1_train, binary1_test = get_DTM(Ngram_range = (1, 1), x_train = X_train, x_test = X_test)\n",
    "\n",
    "# bigram token counts matrix\n",
    "binary2_train, binary2_test = get_DTM(Ngram_range = (1, 2), x_train = X_train, x_test = X_test)\n",
    "\n",
    "# trigram token counts matrix\n",
    "binary3_train, binary3_test = get_DTM(Ngram_range = (1, 3), x_train = X_train, x_test = X_test)"
   ]
  },
  {
   "cell_type": "code",
   "execution_count": 15,
   "metadata": {},
   "outputs": [
    {
     "name": "stdout",
     "output_type": "stream",
     "text": [
      "The unique terms in binary1_train is: 3437\n",
      "The unique terms in binary2_train is: 7950\n",
      "The unique terms in binary3_train is: 9424\n"
     ]
    }
   ],
   "source": [
    "print(\"The unique terms in binary1_train is:\", binary1_train.toarray().shape[1])\n",
    "print(\"The unique terms in binary2_train is:\", binary2_train.toarray().shape[1])\n",
    "print(\"The unique terms in binary3_train is:\", binary3_train.toarray().shape[1])"
   ]
  },
  {
   "cell_type": "markdown",
   "metadata": {},
   "source": [
    "### 4.2.2 Create DTM using unigram, bigram and trigram term frequency"
   ]
  },
  {
   "cell_type": "code",
   "execution_count": 16,
   "metadata": {},
   "outputs": [],
   "source": [
    "# define a function to get unigram, bigram, and trigram term frequency matrix\n",
    "\n",
    "def get_TF_DTM(Ngram_range, x_train, x_test):\n",
    "    vectorizer = CountVectorizer(stop_words='english', min_df = int(3), max_df = 0.5, ngram_range = Ngram_range) \n",
    "    vectorizer.fit(x_train)\n",
    "    trans_x_train = vectorizer.transform(x_train)\n",
    "    trans_x_test = vectorizer.transform(x_test)\n",
    "    \n",
    "    return trans_x_train, trans_x_test"
   ]
  },
  {
   "cell_type": "code",
   "execution_count": 17,
   "metadata": {},
   "outputs": [],
   "source": [
    "# unigram tf matrix\n",
    "tf1_train, tf1_test = get_TF_DTM(Ngram_range = (1, 1), x_train = X_train, x_test = X_test)\n",
    "\n",
    "# bigram tf matrix\n",
    "tf2_train, tf2_test = get_TF_DTM(Ngram_range = (1, 2), x_train = X_train, x_test = X_test)\n",
    "\n",
    "# trigram tf matrix\n",
    "tf3_train, tf3_test = get_TF_DTM(Ngram_range = (1, 3), x_train = X_train, x_test = X_test)"
   ]
  },
  {
   "cell_type": "code",
   "execution_count": 18,
   "metadata": {},
   "outputs": [
    {
     "name": "stdout",
     "output_type": "stream",
     "text": [
      "The unique terms in tf1_train is: 3437\n",
      "The unique terms in tf2_train is: 7950\n",
      "The unique terms in tf3_train is: 9424\n"
     ]
    }
   ],
   "source": [
    "print(\"The unique terms in tf1_train is:\", tf1_train.toarray().shape[1])\n",
    "print(\"The unique terms in tf2_train is:\", tf2_train.toarray().shape[1])\n",
    "print(\"The unique terms in tf3_train is:\", tf3_train.toarray().shape[1])"
   ]
  },
  {
   "cell_type": "markdown",
   "metadata": {},
   "source": [
    "### 4.2.3 Create DTM using unigram, bigram and trigram TF-IDF"
   ]
  },
  {
   "cell_type": "code",
   "execution_count": 19,
   "metadata": {},
   "outputs": [],
   "source": [
    "# define a function to get unigram, bigram, and trigram TF-IDF matrix\n",
    "\n",
    "def get_TF_IDF_DTM(Ngram_range, x_train, x_test):\n",
    "    vectorizer = TfidfVectorizer(stop_words='english', min_df = int(3), max_df = 0.5, \n",
    "                                 ngram_range = Ngram_range) \n",
    "    vectorizer.fit(x_train)\n",
    "    trans_x_train = vectorizer.transform(x_train)\n",
    "    trans_x_test = vectorizer.transform(x_test)\n",
    "    \n",
    "    return trans_x_train, trans_x_test"
   ]
  },
  {
   "cell_type": "code",
   "execution_count": 20,
   "metadata": {},
   "outputs": [],
   "source": [
    "# unigram tf-idf matrix\n",
    "tfidf1_train, tfidf1_test = get_TF_IDF_DTM(Ngram_range = (1, 1), x_train = X_train, x_test = X_test)\n",
    "\n",
    "# bigram tf-idf matrix\n",
    "tfidf2_train, tfidf2_test = get_TF_IDF_DTM(Ngram_range = (1, 2), x_train = X_train, x_test = X_test)\n",
    "\n",
    "# trigram tf-idf matrix\n",
    "tfidf3_train, tfidf3_test = get_TF_IDF_DTM(Ngram_range = (1, 3), x_train = X_train, x_test = X_test)"
   ]
  },
  {
   "cell_type": "code",
   "execution_count": 21,
   "metadata": {},
   "outputs": [
    {
     "name": "stdout",
     "output_type": "stream",
     "text": [
      "The unique terms in tfidf1_train is: 3437\n",
      "The unique terms in tfidf2_train is: 7950\n",
      "The unique terms in tfidf3_train is: 9424\n"
     ]
    }
   ],
   "source": [
    "print(\"The unique terms in tfidf1_train is:\", tfidf1_train.toarray().shape[1])\n",
    "print(\"The unique terms in tfidf2_train is:\", tfidf2_train.toarray().shape[1])\n",
    "print(\"The unique terms in tfidf3_train is:\", tfidf3_train.toarray().shape[1])"
   ]
  },
  {
   "cell_type": "markdown",
   "metadata": {},
   "source": [
    "## 4.3 Modeling"
   ]
  },
  {
   "cell_type": "markdown",
   "metadata": {},
   "source": [
    "### 4.3.1 XGBoost Classifier"
   ]
  },
  {
   "cell_type": "code",
   "execution_count": 22,
   "metadata": {},
   "outputs": [],
   "source": [
    "# define model training\n",
    "def train_model(clf, dtm, test):\n",
    "    # train data\n",
    "    clf.fit(dtm, y_train)\n",
    "    \n",
    "    # Predicting on the test set\n",
    "    preds = clf.predict(test)\n",
    "    \n",
    "    # print evaluation matrix\n",
    "    print(\"Macro f1-score:\", '{:1.4f}'.format(f1_score(y_test, preds, average='macro')))\n",
    "    print(\"\") \n",
    "    print(classification_report(y_test, preds))\n",
    "    print(\"Confusion Matrix:\")\n",
    "    print(confusion_matrix(y_test, preds))\n",
    "    \n",
    "    return '{:1.4f}'.format(f1_score(y_test, preds, average='macro'))"
   ]
  },
  {
   "cell_type": "code",
   "execution_count": 23,
   "metadata": {},
   "outputs": [
    {
     "name": "stdout",
     "output_type": "stream",
     "text": [
      "unigram, binary\n",
      "\n",
      "Macro f1-score: 0.4091\n",
      "\n",
      "              precision    recall  f1-score   support\n",
      "\n",
      "           0       0.43      0.50      0.46        12\n",
      "           1       0.46      0.50      0.48        12\n",
      "           2       0.33      0.25      0.29        12\n",
      "\n",
      "    accuracy                           0.42        36\n",
      "   macro avg       0.41      0.42      0.41        36\n",
      "weighted avg       0.41      0.42      0.41        36\n",
      "\n",
      "Confusion Matrix:\n",
      "[[6 3 3]\n",
      " [3 6 3]\n",
      " [5 4 3]]\n",
      "======================================================\n",
      "\n",
      "bigram, binary\n",
      "\n",
      "Macro f1-score: 0.4139\n",
      "\n",
      "              precision    recall  f1-score   support\n",
      "\n",
      "           0       0.42      0.42      0.42        12\n",
      "           1       0.43      0.50      0.46        12\n",
      "           2       0.40      0.33      0.36        12\n",
      "\n",
      "    accuracy                           0.42        36\n",
      "   macro avg       0.42      0.42      0.41        36\n",
      "weighted avg       0.42      0.42      0.41        36\n",
      "\n",
      "Confusion Matrix:\n",
      "[[5 4 3]\n",
      " [3 6 3]\n",
      " [4 4 4]]\n",
      "======================================================\n",
      "\n",
      "trigram, binary\n",
      "\n",
      "Macro f1-score: 0.3969\n",
      "\n",
      "              precision    recall  f1-score   support\n",
      "\n",
      "           0       0.47      0.58      0.52        12\n",
      "           1       0.43      0.50      0.46        12\n",
      "           2       0.29      0.17      0.21        12\n",
      "\n",
      "    accuracy                           0.42        36\n",
      "   macro avg       0.39      0.42      0.40        36\n",
      "weighted avg       0.39      0.42      0.40        36\n",
      "\n",
      "Confusion Matrix:\n",
      "[[7 3 2]\n",
      " [3 6 3]\n",
      " [5 5 2]]\n",
      "======================================================\n",
      "\n",
      "unigram, TF\n",
      "\n",
      "Macro f1-score: 0.3563\n",
      "\n",
      "              precision    recall  f1-score   support\n",
      "\n",
      "           0       0.27      0.25      0.26        12\n",
      "           1       0.40      0.50      0.44        12\n",
      "           2       0.40      0.33      0.36        12\n",
      "\n",
      "    accuracy                           0.36        36\n",
      "   macro avg       0.36      0.36      0.36        36\n",
      "weighted avg       0.36      0.36      0.36        36\n",
      "\n",
      "Confusion Matrix:\n",
      "[[3 5 4]\n",
      " [4 6 2]\n",
      " [4 4 4]]\n",
      "======================================================\n",
      "\n",
      "bigram, TF\n",
      "\n",
      "Macro f1-score: 0.3484\n",
      "\n",
      "              precision    recall  f1-score   support\n",
      "\n",
      "           0       0.42      0.42      0.42        12\n",
      "           1       0.38      0.50      0.43        12\n",
      "           2       0.25      0.17      0.20        12\n",
      "\n",
      "    accuracy                           0.36        36\n",
      "   macro avg       0.35      0.36      0.35        36\n",
      "weighted avg       0.35      0.36      0.35        36\n",
      "\n",
      "Confusion Matrix:\n",
      "[[5 4 3]\n",
      " [3 6 3]\n",
      " [4 6 2]]\n",
      "======================================================\n",
      "\n",
      "trigram, TF\n",
      "\n",
      "Macro f1-score: 0.3790\n",
      "\n",
      "              precision    recall  f1-score   support\n",
      "\n",
      "           0       0.42      0.42      0.42        12\n",
      "           1       0.50      0.58      0.54        12\n",
      "           2       0.20      0.17      0.18        12\n",
      "\n",
      "    accuracy                           0.39        36\n",
      "   macro avg       0.37      0.39      0.38        36\n",
      "weighted avg       0.37      0.39      0.38        36\n",
      "\n",
      "Confusion Matrix:\n",
      "[[5 2 5]\n",
      " [2 7 3]\n",
      " [5 5 2]]\n",
      "======================================================\n",
      "\n",
      "unigram, TF-IDF\n",
      "\n",
      "Macro f1-score: 0.4437\n",
      "\n",
      "              precision    recall  f1-score   support\n",
      "\n",
      "           0       0.38      0.42      0.40        12\n",
      "           1       0.58      0.58      0.58        12\n",
      "           2       0.36      0.33      0.35        12\n",
      "\n",
      "    accuracy                           0.44        36\n",
      "   macro avg       0.44      0.44      0.44        36\n",
      "weighted avg       0.44      0.44      0.44        36\n",
      "\n",
      "Confusion Matrix:\n",
      "[[5 3 4]\n",
      " [2 7 3]\n",
      " [6 2 4]]\n",
      "======================================================\n",
      "\n",
      "bigram, TF-IDF\n",
      "\n",
      "Macro f1-score: 0.4091\n",
      "\n",
      "              precision    recall  f1-score   support\n",
      "\n",
      "           0       0.46      0.50      0.48        12\n",
      "           1       0.43      0.50      0.46        12\n",
      "           2       0.33      0.25      0.29        12\n",
      "\n",
      "    accuracy                           0.42        36\n",
      "   macro avg       0.41      0.42      0.41        36\n",
      "weighted avg       0.41      0.42      0.41        36\n",
      "\n",
      "Confusion Matrix:\n",
      "[[6 3 3]\n",
      " [3 6 3]\n",
      " [4 5 3]]\n",
      "======================================================\n",
      "\n",
      "trigram, TF-IDF\n",
      "\n",
      "Macro f1-score: 0.4051\n",
      "\n",
      "              precision    recall  f1-score   support\n",
      "\n",
      "           0       0.42      0.42      0.42        12\n",
      "           1       0.41      0.58      0.48        12\n",
      "           2       0.43      0.25      0.32        12\n",
      "\n",
      "    accuracy                           0.42        36\n",
      "   macro avg       0.42      0.42      0.41        36\n",
      "weighted avg       0.42      0.42      0.41        36\n",
      "\n",
      "Confusion Matrix:\n",
      "[[5 5 2]\n",
      " [3 7 2]\n",
      " [4 5 3]]\n",
      "======================================================\n",
      "\n"
     ]
    }
   ],
   "source": [
    "# Use XGboost\n",
    "#clf = XGBClassifier() #MultinomialNB()\n",
    "param = {'max_depth': 3, 'eta': 0.1, 'objective':'multi:softmax', 'num_class': 3}\n",
    "xgb_clf = XGBClassifier(param)\n",
    "svm_clf = svm.SVC(gamma = 'scale', C = 1.0)\n",
    "# reference: https://medium.com/@gabrielziegler3/multiclass-multilabel-classification-with-xgboost-66195e4d9f2d\n",
    "# reference: https://xgboost.readthedocs.io/en/latest/parameter.html\n",
    "\n",
    "# Model Configurations\n",
    "binary1 = (\"unigram, binary\", binary1_train, binary1_test)\n",
    "binary2 = (\"bigram, binary\",  binary2_train, binary2_test)\n",
    "binary3 = (\"trigram, binary\", binary3_train, binary3_test)\n",
    "tf1 = (\"unigram, TF\", tf1_train, tf1_test)\n",
    "tf2 = (\"bigram, TF\",  tf2_train, tf2_test)\n",
    "tf3 = (\"trigram, TF\", tf3_train, tf3_test)\n",
    "tfidf1 = (\"unigram, TF-IDF\", tfidf1_train, tfidf1_test)\n",
    "tfidf2 = (\"bigram, TF-IDF\",  tfidf2_train, tfidf2_test)\n",
    "tfidf3 = (\"trigram, TF-IDF\", tfidf3_train, tfidf3_test)\n",
    "DTMs = [binary1, binary2, binary3,\n",
    "        tf1, tf2, tf3,\n",
    "        tfidf1, tfidf2, tfidf3]\n",
    "\n",
    "df = pd.DataFrame({\"config\": [],\n",
    "                   \"f1-score\": []})\n",
    "best_config = [\"Best Configuration\", \"none\", 0, \"none\", \"none\"]\n",
    "for data in DTMs:\n",
    "    print(data[0])\n",
    "    print(\"\")\n",
    "    score = train_model(clf = xgb_clf, dtm = data[1], test = data[2])\n",
    "    print(\"======================================================\")\n",
    "    print(\"\")\n",
    "    if float(score) > float(best_config[2]):\n",
    "        best_config = [\"Best Configuration:\", data[0], score, data[1], data[2]]\n",
    "    df = df.append({\"config\": data[0],\n",
    "               \"f1-score\": float(score)},\n",
    "               ignore_index=True)"
   ]
  },
  {
   "cell_type": "code",
   "execution_count": 24,
   "metadata": {},
   "outputs": [
    {
     "data": {
      "text/html": [
       "<div>\n",
       "<style scoped>\n",
       "    .dataframe tbody tr th:only-of-type {\n",
       "        vertical-align: middle;\n",
       "    }\n",
       "\n",
       "    .dataframe tbody tr th {\n",
       "        vertical-align: top;\n",
       "    }\n",
       "\n",
       "    .dataframe thead th {\n",
       "        text-align: right;\n",
       "    }\n",
       "</style>\n",
       "<table border=\"1\" class=\"dataframe\">\n",
       "  <thead>\n",
       "    <tr style=\"text-align: right;\">\n",
       "      <th></th>\n",
       "      <th>config</th>\n",
       "      <th>f1-score</th>\n",
       "    </tr>\n",
       "  </thead>\n",
       "  <tbody>\n",
       "    <tr>\n",
       "      <th>0</th>\n",
       "      <td>unigram, binary</td>\n",
       "      <td>0.4091</td>\n",
       "    </tr>\n",
       "    <tr>\n",
       "      <th>1</th>\n",
       "      <td>bigram, binary</td>\n",
       "      <td>0.4139</td>\n",
       "    </tr>\n",
       "    <tr>\n",
       "      <th>2</th>\n",
       "      <td>trigram, binary</td>\n",
       "      <td>0.3969</td>\n",
       "    </tr>\n",
       "    <tr>\n",
       "      <th>3</th>\n",
       "      <td>unigram, TF</td>\n",
       "      <td>0.3563</td>\n",
       "    </tr>\n",
       "    <tr>\n",
       "      <th>4</th>\n",
       "      <td>bigram, TF</td>\n",
       "      <td>0.3484</td>\n",
       "    </tr>\n",
       "    <tr>\n",
       "      <th>5</th>\n",
       "      <td>trigram, TF</td>\n",
       "      <td>0.3790</td>\n",
       "    </tr>\n",
       "    <tr>\n",
       "      <th>6</th>\n",
       "      <td>unigram, TF-IDF</td>\n",
       "      <td>0.4437</td>\n",
       "    </tr>\n",
       "    <tr>\n",
       "      <th>7</th>\n",
       "      <td>bigram, TF-IDF</td>\n",
       "      <td>0.4091</td>\n",
       "    </tr>\n",
       "    <tr>\n",
       "      <th>8</th>\n",
       "      <td>trigram, TF-IDF</td>\n",
       "      <td>0.4051</td>\n",
       "    </tr>\n",
       "  </tbody>\n",
       "</table>\n",
       "</div>"
      ],
      "text/plain": [
       "            config  f1-score\n",
       "0  unigram, binary    0.4091\n",
       "1   bigram, binary    0.4139\n",
       "2  trigram, binary    0.3969\n",
       "3      unigram, TF    0.3563\n",
       "4       bigram, TF    0.3484\n",
       "5      trigram, TF    0.3790\n",
       "6  unigram, TF-IDF    0.4437\n",
       "7   bigram, TF-IDF    0.4091\n",
       "8  trigram, TF-IDF    0.4051"
      ]
     },
     "execution_count": 24,
     "metadata": {},
     "output_type": "execute_result"
    }
   ],
   "source": [
    "# results of xgb classifier\n",
    "df"
   ]
  },
  {
   "cell_type": "code",
   "execution_count": 25,
   "metadata": {},
   "outputs": [
    {
     "name": "stdout",
     "output_type": "stream",
     "text": [
      "['Best Configuration:', 'unigram, TF-IDF', '0.4437', <143x3437 sparse matrix of type '<class 'numpy.float64'>'\n",
      "\twith 42973 stored elements in Compressed Sparse Row format>, <36x3437 sparse matrix of type '<class 'numpy.float64'>'\n",
      "\twith 10508 stored elements in Compressed Sparse Row format>]\n"
     ]
    }
   ],
   "source": [
    "# best model\n",
    "print(best_config)"
   ]
  },
  {
   "cell_type": "markdown",
   "metadata": {},
   "source": [
    "### 4.3.1.1 Feature Importance Analysis "
   ]
  },
  {
   "cell_type": "code",
   "execution_count": 26,
   "metadata": {},
   "outputs": [],
   "source": [
    "# Best Configuration\n",
    "xgb_clf.fit(best_config[3], y_train)\n",
    "\n",
    "# predictions on the test data\n",
    "preds = xgb_clf.predict(best_config[4])\n",
    "\n",
    "# feature importance\n",
    "importances = xgb_clf.feature_importances_\n",
    "\n",
    "# Sort feature importances in descending order\n",
    "indices = np.argsort(importances)[::-1]\n",
    "\n",
    "# Rearrange feature names so they match the sorted feature importances\n",
    "vectorizer = TfidfVectorizer(stop_words='english', min_df = int(3), max_df = 0.5, ngram_range = (1, 1))\n",
    "vectorizer.fit(X_train)\n",
    "names = [vectorizer.get_feature_names()[i] for i in indices]"
   ]
  },
  {
   "cell_type": "code",
   "execution_count": 27,
   "metadata": {},
   "outputs": [
    {
     "data": {
      "text/plain": [
       "['number',\n",
       " 'instal',\n",
       " 'assess',\n",
       " 'comment',\n",
       " 'post',\n",
       " 'favor',\n",
       " 'battleground',\n",
       " 'success',\n",
       " 'ran',\n",
       " 'letter',\n",
       " 'socialist',\n",
       " 'histori',\n",
       " 'journal',\n",
       " 'vermont',\n",
       " 'economi',\n",
       " 'campaignth',\n",
       " 'solidifi',\n",
       " 'fundament',\n",
       " 'bank',\n",
       " 'let']"
      ]
     },
     "execution_count": 27,
     "metadata": {},
     "output_type": "execute_result"
    }
   ],
   "source": [
    "# Main features\n",
    "names[0:20]"
   ]
  },
  {
   "cell_type": "code",
   "execution_count": 28,
   "metadata": {},
   "outputs": [
    {
     "data": {
      "image/png": "[encoded data removed]",
      "text/plain": [
       "<Figure size 432x288 with 1 Axes>"
      ]
     },
     "metadata": {
      "needs_background": "light"
     },
     "output_type": "display_data"
    }
   ],
   "source": [
    "num_features = 20\n",
    "\n",
    "# Create plot\n",
    "plt.figure()\n",
    "\n",
    "# Create plot title\n",
    "plt.title(\"Feature Importance\")\n",
    "\n",
    "# Add bars\n",
    "plt.bar(range(num_features), importances[indices][0:num_features])\n",
    "\n",
    "# Add feature names as x-axis labels\n",
    "plt.xticks(range(num_features), names[0:num_features], rotation=90)\n",
    "\n",
    "# Show plot\n",
    "plt.show()"
   ]
  },
  {
   "cell_type": "markdown",
   "metadata": {},
   "source": [
    "### 4.3.2 SVM Classifier"
   ]
  },
  {
   "cell_type": "code",
   "execution_count": 29,
   "metadata": {},
   "outputs": [
    {
     "name": "stdout",
     "output_type": "stream",
     "text": [
      "unigram, binary\n",
      "\n",
      "Macro f1-score: 0.4077\n",
      "\n",
      "              precision    recall  f1-score   support\n",
      "\n",
      "           0       0.50      0.58      0.54        12\n",
      "           1       0.38      0.25      0.30        12\n",
      "           2       0.36      0.42      0.38        12\n",
      "\n",
      "    accuracy                           0.42        36\n",
      "   macro avg       0.41      0.42      0.41        36\n",
      "weighted avg       0.41      0.42      0.41        36\n",
      "\n",
      "Confusion Matrix:\n",
      "[[7 1 4]\n",
      " [4 3 5]\n",
      " [3 4 5]]\n",
      "======================================================\n",
      "\n",
      "bigram, binary\n",
      "\n",
      "Macro f1-score: 0.3814\n",
      "\n",
      "              precision    recall  f1-score   support\n",
      "\n",
      "           0       0.50      0.58      0.54        12\n",
      "           1       0.33      0.25      0.29        12\n",
      "           2       0.31      0.33      0.32        12\n",
      "\n",
      "    accuracy                           0.39        36\n",
      "   macro avg       0.38      0.39      0.38        36\n",
      "weighted avg       0.38      0.39      0.38        36\n",
      "\n",
      "Confusion Matrix:\n",
      "[[7 1 4]\n",
      " [4 3 5]\n",
      " [3 5 4]]\n",
      "======================================================\n",
      "\n",
      "trigram, binary\n",
      "\n",
      "Macro f1-score: 0.3814\n",
      "\n",
      "              precision    recall  f1-score   support\n",
      "\n",
      "           0       0.50      0.58      0.54        12\n",
      "           1       0.33      0.25      0.29        12\n",
      "           2       0.31      0.33      0.32        12\n",
      "\n",
      "    accuracy                           0.39        36\n",
      "   macro avg       0.38      0.39      0.38        36\n",
      "weighted avg       0.38      0.39      0.38        36\n",
      "\n",
      "Confusion Matrix:\n",
      "[[7 1 4]\n",
      " [4 3 5]\n",
      " [3 5 4]]\n",
      "======================================================\n",
      "\n",
      "unigram, TF\n",
      "\n",
      "Macro f1-score: 0.3951\n",
      "\n",
      "              precision    recall  f1-score   support\n",
      "\n",
      "           0       0.53      0.67      0.59        12\n",
      "           1       0.33      0.17      0.22        12\n",
      "           2       0.33      0.42      0.37        12\n",
      "\n",
      "    accuracy                           0.42        36\n",
      "   macro avg       0.40      0.42      0.40        36\n",
      "weighted avg       0.40      0.42      0.40        36\n",
      "\n",
      "Confusion Matrix:\n",
      "[[8 0 4]\n",
      " [4 2 6]\n",
      " [3 4 5]]\n",
      "======================================================\n",
      "\n",
      "bigram, TF\n",
      "\n",
      "Macro f1-score: 0.3988\n",
      "\n",
      "              precision    recall  f1-score   support\n",
      "\n",
      "           0       0.57      0.67      0.62        12\n",
      "           1       0.29      0.17      0.21        12\n",
      "           2       0.33      0.42      0.37        12\n",
      "\n",
      "    accuracy                           0.42        36\n",
      "   macro avg       0.40      0.42      0.40        36\n",
      "weighted avg       0.40      0.42      0.40        36\n",
      "\n",
      "Confusion Matrix:\n",
      "[[8 0 4]\n",
      " [4 2 6]\n",
      " [2 5 5]]\n",
      "======================================================\n",
      "\n",
      "trigram, TF\n",
      "\n",
      "Macro f1-score: 0.4026\n",
      "\n",
      "              precision    recall  f1-score   support\n",
      "\n",
      "           0       0.58      0.58      0.58        12\n",
      "           1       0.29      0.17      0.21        12\n",
      "           2       0.35      0.50      0.41        12\n",
      "\n",
      "    accuracy                           0.42        36\n",
      "   macro avg       0.41      0.42      0.40        36\n",
      "weighted avg       0.41      0.42      0.40        36\n",
      "\n",
      "Confusion Matrix:\n",
      "[[7 0 5]\n",
      " [4 2 6]\n",
      " [1 5 6]]\n",
      "======================================================\n",
      "\n",
      "unigram, TF-IDF\n",
      "\n",
      "Macro f1-score: 0.4727\n",
      "\n",
      "              precision    recall  f1-score   support\n",
      "\n",
      "           0       0.55      0.50      0.52        12\n",
      "           1       0.43      0.50      0.46        12\n",
      "           2       0.45      0.42      0.43        12\n",
      "\n",
      "    accuracy                           0.47        36\n",
      "   macro avg       0.48      0.47      0.47        36\n",
      "weighted avg       0.48      0.47      0.47        36\n",
      "\n",
      "Confusion Matrix:\n",
      "[[6 3 3]\n",
      " [3 6 3]\n",
      " [2 5 5]]\n",
      "======================================================\n",
      "\n",
      "bigram, TF-IDF\n",
      "\n",
      "Macro f1-score: 0.4482\n",
      "\n",
      "              precision    recall  f1-score   support\n",
      "\n",
      "           0       0.50      0.42      0.45        12\n",
      "           1       0.35      0.50      0.41        12\n",
      "           2       0.56      0.42      0.48        12\n",
      "\n",
      "    accuracy                           0.44        36\n",
      "   macro avg       0.47      0.44      0.45        36\n",
      "weighted avg       0.47      0.44      0.45        36\n",
      "\n",
      "Confusion Matrix:\n",
      "[[5 6 1]\n",
      " [3 6 3]\n",
      " [2 5 5]]\n",
      "======================================================\n",
      "\n",
      "trigram, TF-IDF\n",
      "\n",
      "Macro f1-score: 0.4482\n",
      "\n",
      "              precision    recall  f1-score   support\n",
      "\n",
      "           0       0.50      0.42      0.45        12\n",
      "           1       0.35      0.50      0.41        12\n",
      "           2       0.56      0.42      0.48        12\n",
      "\n",
      "    accuracy                           0.44        36\n",
      "   macro avg       0.47      0.44      0.45        36\n",
      "weighted avg       0.47      0.44      0.45        36\n",
      "\n",
      "Confusion Matrix:\n",
      "[[5 6 1]\n",
      " [3 6 3]\n",
      " [2 5 5]]\n",
      "======================================================\n",
      "\n"
     ]
    }
   ],
   "source": [
    "# svm classifier\n",
    "df_svm = pd.DataFrame({\"config\": [],\n",
    "                   \"f1-score\": []})\n",
    "best_config_svm = [\"Best Configuration\", \"none\", 0, \"none\", \"none\"]\n",
    "for data in DTMs:\n",
    "    print(data[0])\n",
    "    print(\"\")\n",
    "    score = train_model(clf = svm_clf, dtm = data[1], test = data[2])\n",
    "    print(\"======================================================\")\n",
    "    print(\"\")\n",
    "    if float(score) > float(best_config_svm[2]):\n",
    "        best_config_svm = [\"Best Configuration:\", data[0], score, data[1], data[2]]\n",
    "    df_svm = df_svm.append({\"config\": data[0],\n",
    "               \"f1-score\": float(score)},\n",
    "               ignore_index=True)"
   ]
  },
  {
   "cell_type": "code",
   "execution_count": 30,
   "metadata": {},
   "outputs": [
    {
     "data": {
      "text/html": [
       "<div>\n",
       "<style scoped>\n",
       "    .dataframe tbody tr th:only-of-type {\n",
       "        vertical-align: middle;\n",
       "    }\n",
       "\n",
       "    .dataframe tbody tr th {\n",
       "        vertical-align: top;\n",
       "    }\n",
       "\n",
       "    .dataframe thead th {\n",
       "        text-align: right;\n",
       "    }\n",
       "</style>\n",
       "<table border=\"1\" class=\"dataframe\">\n",
       "  <thead>\n",
       "    <tr style=\"text-align: right;\">\n",
       "      <th></th>\n",
       "      <th>config</th>\n",
       "      <th>f1-score</th>\n",
       "    </tr>\n",
       "  </thead>\n",
       "  <tbody>\n",
       "    <tr>\n",
       "      <th>0</th>\n",
       "      <td>unigram, binary</td>\n",
       "      <td>0.4077</td>\n",
       "    </tr>\n",
       "    <tr>\n",
       "      <th>1</th>\n",
       "      <td>bigram, binary</td>\n",
       "      <td>0.3814</td>\n",
       "    </tr>\n",
       "    <tr>\n",
       "      <th>2</th>\n",
       "      <td>trigram, binary</td>\n",
       "      <td>0.3814</td>\n",
       "    </tr>\n",
       "    <tr>\n",
       "      <th>3</th>\n",
       "      <td>unigram, TF</td>\n",
       "      <td>0.3951</td>\n",
       "    </tr>\n",
       "    <tr>\n",
       "      <th>4</th>\n",
       "      <td>bigram, TF</td>\n",
       "      <td>0.3988</td>\n",
       "    </tr>\n",
       "    <tr>\n",
       "      <th>5</th>\n",
       "      <td>trigram, TF</td>\n",
       "      <td>0.4026</td>\n",
       "    </tr>\n",
       "    <tr>\n",
       "      <th>6</th>\n",
       "      <td>unigram, TF-IDF</td>\n",
       "      <td>0.4727</td>\n",
       "    </tr>\n",
       "    <tr>\n",
       "      <th>7</th>\n",
       "      <td>bigram, TF-IDF</td>\n",
       "      <td>0.4482</td>\n",
       "    </tr>\n",
       "    <tr>\n",
       "      <th>8</th>\n",
       "      <td>trigram, TF-IDF</td>\n",
       "      <td>0.4482</td>\n",
       "    </tr>\n",
       "  </tbody>\n",
       "</table>\n",
       "</div>"
      ],
      "text/plain": [
       "            config  f1-score\n",
       "0  unigram, binary    0.4077\n",
       "1   bigram, binary    0.3814\n",
       "2  trigram, binary    0.3814\n",
       "3      unigram, TF    0.3951\n",
       "4       bigram, TF    0.3988\n",
       "5      trigram, TF    0.4026\n",
       "6  unigram, TF-IDF    0.4727\n",
       "7   bigram, TF-IDF    0.4482\n",
       "8  trigram, TF-IDF    0.4482"
      ]
     },
     "execution_count": 30,
     "metadata": {},
     "output_type": "execute_result"
    }
   ],
   "source": [
    "# results of svm classifier\n",
    "df_svm"
   ]
  },
  {
   "cell_type": "code",
   "execution_count": 31,
   "metadata": {},
   "outputs": [
    {
     "name": "stdout",
     "output_type": "stream",
     "text": [
      "['Best Configuration:', 'unigram, TF-IDF', '0.4727', <143x3437 sparse matrix of type '<class 'numpy.float64'>'\n",
      "\twith 42973 stored elements in Compressed Sparse Row format>, <36x3437 sparse matrix of type '<class 'numpy.float64'>'\n",
      "\twith 10508 stored elements in Compressed Sparse Row format>]\n"
     ]
    }
   ],
   "source": [
    "# best model\n",
    "print(best_config_svm)"
   ]
  },
  {
   "cell_type": "code",
   "execution_count": null,
   "metadata": {},
   "outputs": [],
   "source": []
  }
 ],
 "metadata": {
  "kernelspec": {
   "display_name": "Python 3",
   "language": "python",
   "name": "python3"
  },
  "language_info": {
   "codemirror_mode": {
    "name": "ipython",
    "version": 3
   },
   "file_extension": ".py",
   "mimetype": "text/x-python",
   "name": "python",
   "nbconvert_exporter": "python",
   "pygments_lexer": "ipython3",
   "version": "3.6.5"
  }
 },
 "nbformat": 4,
 "nbformat_minor": 2
}
