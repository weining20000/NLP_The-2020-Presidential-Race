{
 "cells": [
  {
   "cell_type": "code",
   "execution_count": 1,
   "metadata": {},
   "outputs": [],
   "source": [
    "# Data\n",
    "import numpy as np\n",
    "import pandas as pd\n",
    "\n",
    "# NLP\n",
    "import re\n",
    "import nltk\n",
    "from nltk.tokenize import word_tokenize\n",
    "from nltk.corpus import stopwords\n",
    "from nltk.stem import PorterStemmer\n",
    "from sklearn.model_selection import train_test_split, GridSearchCV, StratifiedKFold\n",
    "from sklearn.preprocessing import LabelEncoder, StandardScaler\n",
    "from sklearn.feature_extraction.text import CountVectorizer, TfidfVectorizer\n",
    "\n",
    "# Modeling\n",
    "from sklearn.naive_bayes import MultinomialNB\n",
    "from xgboost import XGBClassifier\n",
    "from sklearn.metrics import accuracy_score, precision_score, f1_score, classification_report, confusion_matrix\n",
    "from sklearn.utils import shuffle\n",
    "from sklearn import svm\n",
    "\n",
    "# plot\n",
    "import matplotlib.pyplot as plt\n",
    "\n",
    "ps = PorterStemmer()\n",
    "stopwords_english = set(stopwords.words('english'))"
   ]
  },
  {
   "cell_type": "markdown",
   "metadata": {},
   "source": [
    "# 1. Load Data"
   ]
  },
  {
   "cell_type": "code",
   "execution_count": 2,
   "metadata": {},
   "outputs": [],
   "source": [
    "# load news articles\n",
    "Path = \"C:/Users/Winnie/Documents/2020 Spring/NLP/Final Project/Data/All_Candidates/\"\n",
    "Biden = pd.read_csv(Path + 'Joe_Biden.csv')\n",
    "Sanders = pd.read_csv(Path + 'Bernie_Sanders.csv')\n",
    "Trump = pd.read_csv(Path + 'Donald_Trump.csv')"
   ]
  },
  {
   "cell_type": "code",
   "execution_count": 3,
   "metadata": {},
   "outputs": [],
   "source": [
    "# select text and news company names\n",
    "Biden_news = Biden[['text', 'media']]\n",
    "Sanders_news = Sanders[['text', 'media']]\n",
    "Trump_news = Trump[['text', 'media']]"
   ]
  },
  {
   "cell_type": "code",
   "execution_count": 4,
   "metadata": {},
   "outputs": [
    {
     "data": {
      "text/html": [
       "<div>\n",
       "<style scoped>\n",
       "    .dataframe tbody tr th:only-of-type {\n",
       "        vertical-align: middle;\n",
       "    }\n",
       "\n",
       "    .dataframe tbody tr th {\n",
       "        vertical-align: top;\n",
       "    }\n",
       "\n",
       "    .dataframe thead th {\n",
       "        text-align: right;\n",
       "    }\n",
       "</style>\n",
       "<table border=\"1\" class=\"dataframe\">\n",
       "  <thead>\n",
       "    <tr style=\"text-align: right;\">\n",
       "      <th></th>\n",
       "      <th>text</th>\n",
       "      <th>media</th>\n",
       "    </tr>\n",
       "  </thead>\n",
       "  <tbody>\n",
       "    <tr>\n",
       "      <th>0</th>\n",
       "      <td>Hide highlightingFull TextTranslateUndo Transl...</td>\n",
       "      <td>New York Times</td>\n",
       "    </tr>\n",
       "    <tr>\n",
       "      <th>1</th>\n",
       "      <td>Hide highlightingAbstractTranslateUndo Transla...</td>\n",
       "      <td>New York Times</td>\n",
       "    </tr>\n",
       "  </tbody>\n",
       "</table>\n",
       "</div>"
      ],
      "text/plain": [
       "                                                text           media\n",
       "0  Hide highlightingFull TextTranslateUndo Transl...  New York Times\n",
       "1  Hide highlightingAbstractTranslateUndo Transla...  New York Times"
      ]
     },
     "execution_count": 4,
     "metadata": {},
     "output_type": "execute_result"
    }
   ],
   "source": [
    "Biden_news.head(2)"
   ]
  },
  {
   "cell_type": "code",
   "execution_count": 5,
   "metadata": {},
   "outputs": [],
   "source": [
    "# define a function to create corpus for each news companies (NYT, TWP, and WSJ)\n",
    "\n",
    "def create_corpus(Biden_news, Sanders_news, Trump_news, media_name):\n",
    "    \n",
    "    df1 = Biden_news.loc[Biden_news['media'] == media_name]\n",
    "    df2 = Sanders_news.loc[Sanders_news['media'] == media_name]\n",
    "    df3 = Trump_news.loc[Trump_news['media'] == media_name]\n",
    "    frames = [df1, df2, df3]\n",
    "    df = pd.concat(frames, ignore_index = True)\n",
    "    \n",
    "    return df\n",
    "    "
   ]
  },
  {
   "cell_type": "code",
   "execution_count": 6,
   "metadata": {},
   "outputs": [],
   "source": [
    "# create small corpus for each news company\n",
    "NYT = create_corpus(Biden_news, Sanders_news, Trump_news, media_name = 'New York Times')\n",
    "WSJ = create_corpus(Biden_news, Sanders_news, Trump_news, media_name = 'Wall Street Journal')\n",
    "TWP = create_corpus(Biden_news, Sanders_news, Trump_news, media_name = 'The Washington Post')"
   ]
  },
  {
   "cell_type": "code",
   "execution_count": 7,
   "metadata": {},
   "outputs": [
    {
     "data": {
      "text/html": [
       "<div>\n",
       "<style scoped>\n",
       "    .dataframe tbody tr th:only-of-type {\n",
       "        vertical-align: middle;\n",
       "    }\n",
       "\n",
       "    .dataframe tbody tr th {\n",
       "        vertical-align: top;\n",
       "    }\n",
       "\n",
       "    .dataframe thead th {\n",
       "        text-align: right;\n",
       "    }\n",
       "</style>\n",
       "<table border=\"1\" class=\"dataframe\">\n",
       "  <thead>\n",
       "    <tr style=\"text-align: right;\">\n",
       "      <th></th>\n",
       "      <th>text</th>\n",
       "      <th>media</th>\n",
       "    </tr>\n",
       "  </thead>\n",
       "  <tbody>\n",
       "    <tr>\n",
       "      <th>0</th>\n",
       "      <td>Hide highlightingFull TextTranslateUndo Transl...</td>\n",
       "      <td>New York Times</td>\n",
       "    </tr>\n",
       "    <tr>\n",
       "      <th>1</th>\n",
       "      <td>Hide highlightingAbstractTranslateUndo Transla...</td>\n",
       "      <td>New York Times</td>\n",
       "    </tr>\n",
       "    <tr>\n",
       "      <th>2</th>\n",
       "      <td>Hide highlightingFull TextTranslateUndo Transl...</td>\n",
       "      <td>New York Times</td>\n",
       "    </tr>\n",
       "    <tr>\n",
       "      <th>3</th>\n",
       "      <td>Hide highlightingFull TextTranslateUndo Transl...</td>\n",
       "      <td>New York Times</td>\n",
       "    </tr>\n",
       "    <tr>\n",
       "      <th>4</th>\n",
       "      <td>Hide highlightingFull TextTranslateUndo Transl...</td>\n",
       "      <td>New York Times</td>\n",
       "    </tr>\n",
       "  </tbody>\n",
       "</table>\n",
       "</div>"
      ],
      "text/plain": [
       "                                                text           media\n",
       "0  Hide highlightingFull TextTranslateUndo Transl...  New York Times\n",
       "1  Hide highlightingAbstractTranslateUndo Transla...  New York Times\n",
       "2  Hide highlightingFull TextTranslateUndo Transl...  New York Times\n",
       "3  Hide highlightingFull TextTranslateUndo Transl...  New York Times\n",
       "4  Hide highlightingFull TextTranslateUndo Transl...  New York Times"
      ]
     },
     "execution_count": 7,
     "metadata": {},
     "output_type": "execute_result"
    }
   ],
   "source": [
    "# create large corpus for all \n",
    "corpus_All_Medias = pd.concat([NYT, WSJ, TWP], axis = 0, ignore_index = True)\n",
    "corpus_All_Medias.head()"
   ]
  },
  {
   "cell_type": "code",
   "execution_count": 8,
   "metadata": {},
   "outputs": [
    {
     "data": {
      "text/plain": [
       "'Hide highlightingAbstractTranslateUndo Translation FromToTranslateTranslation in progress... \\r\\n\\r\\n[[missing key: loadingAnimation]]The full text may take 40-120 seconds to translate; larger documents may take longer.\\r\\n\\r\\nCancel\\r\\nOverlayEndA new study, which found that Americans were reluctant to use the word â€œsheâ€� to describe a hypothetical president, highlights the sneaky ways language illuminates bias.You have requested \"on-the-fly\" machine translation of selected content from our databases. This functionality is provided solely for your convenience and is in no way intended to replace human translation. Show full disclaimerNeither ProQuest nor its licensors make any representations or warranties with respect to the translations. The translations are automatically generated \"AS IS\" and \"AS AVAILABLE\" and are not retained in our systems. PROQUEST AND ITS LICENSORS SPECIFICALLY DISCLAIM ANY AND ALL EXPRESS OR IMPLIED WARRANTIES, INCLUDING WITHOUT LIMITATION, ANY WARRANTIES FOR AVAILABILITY, ACCURACY, TIMELINESS, COMPLETENESS, NON-INFRINGMENT, MERCHANTABILITY OR FITNESS FOR A PARTICULAR PURPOSE. Your use of the translations is subject to all use restrictions contained in your Electronic Products License Agreement and by using the translation functionality you agree to forgo any and all claims against ProQuest or its licensors for your use of the translation functionality and any output derived there from. Hide full disclaimer\\r\\n\\r\\nLonger documents can take a while to translate. Rather than keep you waiting, we have only translated the first few paragraphs. Click the button below if you want to translate the rest of the document.\\r\\nTranslate AllFull TextTranslateUndo Translation FromToTranslateTranslation in progress... \\r\\n\\r\\n[[missing key: loadingAnimation]]The full text may take 40-120 seconds to translate; larger documents may take longer.\\r\\n\\r\\nCancel\\r\\nOverlayEndTurn on search term navigationTurn on search term navigation\\r\\n| Jump to first hitA new study, which found that Americans were reluctant to use the word â€œsheâ€� to describe a hypothetical president, highlights the sneaky ways language illuminates bias.\\r\\nIt was a blip of a moment during the Democratic debate last week, one perhaps overshadowed by a long discussion of the prospect of a female president. Responding to a question about climate change, Senator Elizabeth Warren of Massachusetts said, â€œI will do everything a president can do all by herself on the first day.â€�\\r\\nAll by herself. Did you clock the use of that word?\\r\\nA study released this month shows that you did â€” and that, in fact, it may have cost you a third of a second in reading time just now.\\r\\nHer. Itâ€™s a three-letter pronoun that, despite the seemingly endless debate over whether a woman can become president, feels relatively benign. But what if its use, or an unconscious aversion to its use, had some small power to influence voter perception? Could something as simple as a pronoun reflect, or even affect, the way voters understand power?\\r\\nThatâ€™s the question raised by the research, conducted by cognitive scientists and linguists at M.I.T., the University of Potsdam and the University of California, San Diego, who surveyed people during the run-up to the 2016 election. Wanting to understand how world events might influence language, the researchers hypothesized that the possibility a woman would be elected president at that time might override the implicit bias people had toward referring to the president as â€œhe.â€�\\r\\nBut what they found was that Americans â€” even young, self-identified Democratic women who believed Hillary Clinton would win â€” were reluctant to use â€œsheâ€� even in the context of a hypothetical president.\\r\\nâ€œThere seemed to be a real bias against referring to the next president as â€˜she,â€™â€� said Roger Levy, a professor of brain and cognitive sciences at M.I.T. and one of the authors of the study.\\r\\nWhen the researchers watched subjects in a reading setting â€” they were asked to read a short passage about the next president, pressing a button on a screen to reveal each word of the sentence â€” their bias was even more pronounced: The word â€œshe,â€� when referring to the future president, made people cognitively stumble, leading to a â€œconsiderable disruptionâ€� in reading time, said Titus von der Malsburg, another author of the study and a linguist at the University of Potsdam, in Germany.\\r\\nâ€œPeople had difficulties reading â€˜sheâ€™ even if the text had previously used â€˜she,â€™ showing how persistent and deeply ingrained this bias is,â€� he said.\\r\\nSo could struggling to say or read the word â€œsheâ€� in the context of a president affect our willingness to vote for a woman?\\r\\nâ€œThatâ€™s of course the million-dollar question,â€� said Dr. von der Malsburg.\\r\\nHe noted that if people gravitated toward male language when talking about presidents, that could indirectly contribute to a culture in which women were not seen as typical candidates.\\r\\nâ€œAnd that, in turn, would likely influence election outcomes because women would have to do extra work to convince voters that they can do the job,â€� he said.\\r\\nWhat lurks behind language?\\r\\nWhen it comes to women in politics â€” and specifically, women in the presidency â€” often lurking behind language are unconscious assumptions about women in power.\\r\\nâ€œWe are uneasy with the president as â€˜sheâ€™ because encountering it forces us to have in mind a new conception of â€˜president,â€™â€� the linguist Robin Lakoff said.\\r\\nDr. Lakoff, whose book â€œLanguage and Womanâ€™s Placeâ€� helped create the field of gender linguistics in the 1970s, said that language tended to reflect the beliefs of a particular moment in time.\\r\\nBut it can also shape them.\\r\\nResearch has found that the use of the pronoun â€œheâ€� can create a male bias in readers, that countries with gendered language have higher gender inequality and that even subtly sexist language may influence votersâ€™ likelihood of supporting a particular candidate.\\r\\nIn recent years, some governments and organizations have started paying more attention to the power of words, taking steps to update or replace gendered terms.\\r\\nIn 2013, Washington State joined Florida and Minnesota in combing through its state codes and statutes to adjust terms like â€œombudsmanâ€� (now â€œombudsâ€�) to be gender neutral. As Liz Watson, then senior counsel at the National Womenâ€™s Law Center, said at the time: â€œWords matter. Words help shape our perceptions about what opportunities are available to women and men.â€�\\r\\nAdministrators at Yale announced in 2017 that they would replace the words â€œfreshmanâ€� and â€œupperclassmanâ€� with â€œfirst-yearâ€� and â€œupper-levelâ€� students, joining several other universities that have informally made the change. And the singular â€œtheyâ€� â€” increasingly popular as both as substitute for â€œhe or sheâ€� and as a gender-neutral pronoun for those who identify as nonbinary â€” was recently declared the â€œWord of the Decadeâ€� by the American Dialect Society.\\r\\nThat would seem like progress, said the historian Barbara J. Berg. Yet when it comes to the halls of power, she said, the masculine â€œremains the default in our language.â€�\\r\\nIt is popular these days to tell the story of Abigail Adams, wife of the founding father John, who urged her husband in a letter in 1776 to â€œremember the ladies.â€� Lesser known is that his reply, in a letter back, called her request â€œsaucy.â€� (The word â€œshe,â€� of course, does not appear anywhere in the Declaration of Independence, nor does the word â€œwoman.â€�)\\r\\nAnd while, over the years, words like â€œmailman,â€� â€œpolicemanâ€� and â€œstewardessâ€� have been replaced with terms like â€œmail carrier,â€� â€œpolice officerâ€� and â€œflight attendant,â€� there are still plenty of phrases for which â€œheâ€� connotes power. Think â€œmanning the command post,â€� â€œmaestroâ€� or even â€œguyâ€� as a way to describe expertise. â€œAs in, â€˜Heâ€™s a stats guyâ€™ or â€˜Heâ€™s a policy guy,â€™â€� said Philip N. Cohen, a sociologist at the University of Maryland.\\r\\nThe 2018 midterm elections broke all sorts of records â€” and a historic number of women ran for office and won â€” and yet they also provided ample opportunity to hear (and see) the phrase â€œfreshman congresswoman.â€� Doesnâ€™t it sound sort of funny?\\r\\nDeborah Tannen, a linguist at Georgetown University, described how she had recently spoken with a group of female judges, some of whom recalled being referred to as â€œsirâ€� when on the bench. Presumably, Dr. Tannen said, the speakers were nervous â€” and â€œsirâ€� was an attempt to show respect.\\r\\nâ€œâ€˜Sirâ€™ is associated with respect to an extent that â€˜maâ€™amâ€™ is not,â€� Dr. Tannen said, noting that she, too, had occasionally stumbled over such words.\\r\\nOnce, she recalled, at an event in which Michelle Obama was speaking, a friend remarked that â€œDr. Bidenâ€� would also be in attendance.\\r\\nâ€œI thought to myself, â€˜Oh, I didnâ€™t know Joe Biden had a Ph.D.,â€™â€� she said. â€œAnd of course it was his wife, who I had met, and who I knew had a Ph.D. So even I do it, Dr. Tannen.â€�\\r\\nAnd then thereâ€™s â€œMadam.â€� During the 1970s, feminists fought for the adoption of a female equivalent of â€œMr.â€� â€” one that did not denote marital status â€” and were largely successful with the honorific â€œMs.â€� But male presidents in the United States are often addressed as â€œMr. President,â€� while a woman â€” if the way we refer to cabinet secretaries is any indication â€” would quite likely be â€œMadam President.â€�\\r\\nâ€œâ€˜Madamâ€™ could be a term of respect, but itâ€™s also the head of a brothel,â€� said Dr. Berg, the historian. â€œSo itâ€™s like this constant subtle reminder of a womanâ€™s status.â€�\\r\\nA candidate who can â€˜bring people with herâ€™\\r\\nBut a new breed of candidates may be flipping that script.\\r\\nDuring the recent Democratic debate, in addition to Ms. Warrenâ€™s use of â€œherselfâ€� in reference to the next president on more than one occasion, Senator Amy Klobuchar of Minnesota said in her closing statement, â€œWe need a candidate who is actually going to bring people with her.â€�\\r\\nSenator Kamala Harris of California, who dropped out of the race late last year, often did the same when she was running. As Californiaâ€™s first female attorney general, she sifted through the language that was written into the law â€” statutes referring to the attorney general as â€œheâ€� or â€œhisâ€� â€” and changed them.\\r\\nâ€œIâ€™ve always been very aware that when it comes to women holding leadership roles, we are sometimes asking people to see what they have not seen before,â€� Ms. Harris said in an email. â€œAs our government becomes more reflective of the people it represents and the voices at the table become more diverse, it is important for us to really check how we are creating and supporting an inclusive environment â€” and a big part of that is about how we use language.â€�\\r\\nOf course, one might argue thereâ€™s something of a feedback loop: The language reflects the culture. The culture wonâ€™t change until there is a winning candidate who upends the old biases. But those running for that spot may be impeded by the incessant talking about gender.\\r\\nThe researchers say the United Kingdom may provide an encouraging case study.\\r\\nIn 2017, they replicated the study there, in the lead-up to an election to determine the next prime minister.\\r\\nTheresa May was prime minister at the time and was expected to win â€” but she was not the first woman to hold that post. (That was Margaret Thatcher.)\\r\\nWhen referring to the next prime minister, the British study participants were more likely to use the pronoun â€œsheâ€� than â€œhe.â€�\\r\\nSharon Attia contributed research.\\r\\nCrÃ©dito: By Jessica BennettWord count: 1594Show lessYou have requested \"on-the-fly\" machine translation of selected content from our databases. This functionality is provided solely for your convenience and is in no way intended to replace human translation. Show full disclaimerNeither ProQuest nor its licensors make any representations or warranties with respect to the translations. The translations are automatically generated \"AS IS\" and \"AS AVAILABLE\" and are not retained in our systems. PROQUEST AND ITS LICENSORS SPECIFICALLY DISCLAIM ANY AND ALL EXPRESS OR IMPLIED WARRANTIES, INCLUDING WITHOUT LIMITATION, ANY WARRANTIES FOR AVAILABILITY, ACCURACY, TIMELINESS, COMPLETENESS, NON-INFRINGMENT, MERCHANTABILITY OR FITNESS FOR A PARTICULAR PURPOSE. Your use of the translations is subject to all use restrictions contained in your Electronic Products License Agreement and by using the translation functionality you agree to forgo any and all claims against ProQuest or its licensors for your use of the translation functionality and any output derived there from. Hide full disclaimer\\r\\n\\r\\nLonger documents can take a while to translate. Rather than keep you waiting, we have only translated the first few paragraphs. Click the button below if you want to translate the rest of the document.\\r\\nTranslate AllCopyright International New York Times Jan 27, 2020'"
      ]
     },
     "execution_count": 8,
     "metadata": {},
     "output_type": "execute_result"
    }
   ],
   "source": [
    "corpus_All_Medias.iloc[1]['text']"
   ]
  },
  {
   "cell_type": "markdown",
   "metadata": {},
   "source": [
    "# 2. Data Pre-processing"
   ]
  },
  {
   "cell_type": "code",
   "execution_count": 16,
   "metadata": {},
   "outputs": [],
   "source": [
    "def Data_Preprocessing(corpus):\n",
    "    # convert string to list i.e. ['hide', 'highlightingfull', '[[missing']\n",
    "    corpus['text'] = corpus['text'].str.split()\n",
    "\n",
    "    # lower case each item in the list, and remove non-alphabetic characters i.e. ['hide', 'highlightingfull', 'missing']\n",
    "    corpus['text'] = corpus['text'].apply(lambda x: [re.sub(r'[^a-zA-Z]', \"\",y.lower()) for y in x])\n",
    "\n",
    "    # join the item in the list back to a string and replace keywords containing the target names\n",
    "    keywords = ['new york times', 'the new york times', 'international new york times'\n",
    "                \"the washington post\", \"WP Company LLC\", \"washpostcom\",\n",
    "                'wall street journal', 'thomaswsjcom', 'Dow Jones Company Inc.']\n",
    "    corpus['text'] = corpus['text'].apply(lambda x: [' '.join(x).replace(keyword, \"\") for keyword in keywords])\n",
    "\n",
    "    # stem each word in the text\n",
    "    corpus['text'] = corpus['text'].apply(lambda x: str(x[0]))\n",
    "    corpus['text'] = corpus['text'].str.split()\n",
    "    corpus['text'] = corpus['text'].apply(lambda x: [ps.stem(y) for y in x])\n",
    "\n",
    "    # join the item in the list back to a string\n",
    "    corpus['text'] = corpus['text'].apply(lambda x: [' '.join(x)])\n",
    "\n",
    "    # convert list to a string\n",
    "    corpus['text'] = corpus['text'].apply(lambda x: str(x[0]))\n",
    "\n",
    "    print(type(corpus.iloc[0]['text']))\n",
    "    \n",
    "    return corpus"
   ]
  },
  {
   "cell_type": "code",
   "execution_count": 17,
   "metadata": {},
   "outputs": [
    {
     "name": "stdout",
     "output_type": "stream",
     "text": [
      "<class 'str'>\n"
     ]
    },
    {
     "data": {
      "text/html": [
       "<div>\n",
       "<style scoped>\n",
       "    .dataframe tbody tr th:only-of-type {\n",
       "        vertical-align: middle;\n",
       "    }\n",
       "\n",
       "    .dataframe tbody tr th {\n",
       "        vertical-align: top;\n",
       "    }\n",
       "\n",
       "    .dataframe thead th {\n",
       "        text-align: right;\n",
       "    }\n",
       "</style>\n",
       "<table border=\"1\" class=\"dataframe\">\n",
       "  <thead>\n",
       "    <tr style=\"text-align: right;\">\n",
       "      <th></th>\n",
       "      <th>text</th>\n",
       "      <th>media</th>\n",
       "    </tr>\n",
       "  </thead>\n",
       "  <tbody>\n",
       "    <tr>\n",
       "      <th>0</th>\n",
       "      <td>hide highlightingful texttranslateundo transla...</td>\n",
       "      <td>New York Times</td>\n",
       "    </tr>\n",
       "    <tr>\n",
       "      <th>1</th>\n",
       "      <td>hide highlightingabstracttranslateundo transla...</td>\n",
       "      <td>New York Times</td>\n",
       "    </tr>\n",
       "  </tbody>\n",
       "</table>\n",
       "</div>"
      ],
      "text/plain": [
       "                                                text           media\n",
       "0  hide highlightingful texttranslateundo transla...  New York Times\n",
       "1  hide highlightingabstracttranslateundo transla...  New York Times"
      ]
     },
     "execution_count": 17,
     "metadata": {},
     "output_type": "execute_result"
    }
   ],
   "source": [
    "processed_corpus = Data_Preprocessing(corpus_All_Medias)\n",
    "processed_corpus.head(2)"
   ]
  },
  {
   "cell_type": "code",
   "execution_count": 18,
   "metadata": {},
   "outputs": [],
   "source": [
    "# # checking\n",
    "processed_corpus.to_csv('processed_corpus.csv', index = False)"
   ]
  },
  {
   "cell_type": "markdown",
   "metadata": {},
   "source": [
    "# 3. Modeling"
   ]
  },
  {
   "cell_type": "markdown",
   "metadata": {},
   "source": [
    "## 3.1 Split training and test sets "
   ]
  },
  {
   "cell_type": "code",
   "execution_count": 19,
   "metadata": {},
   "outputs": [
    {
     "data": {
      "text/plain": [
       "973    hide highlightingful texttranslateundo transla...\n",
       "552    hide highlightingful texttranslateundo transla...\n",
       "Name: text, dtype: object"
      ]
     },
     "execution_count": 19,
     "metadata": {},
     "output_type": "execute_result"
    }
   ],
   "source": [
    "# separate features and targets\n",
    "X = processed_corpus.iloc[:, 0]\n",
    "y = processed_corpus.iloc[:, 1]\n",
    "\n",
    "# split the dataset into training and test sets\n",
    "X_train, X_test, y_train, y_test = train_test_split(X, y, test_size = 0.2, stratify = y)\n",
    "X_train, y_train = shuffle(X_train, y_train)\n",
    "\n",
    "X_train.head(2)"
   ]
  },
  {
   "cell_type": "code",
   "execution_count": 20,
   "metadata": {},
   "outputs": [
    {
     "name": "stdout",
     "output_type": "stream",
     "text": [
      "{'New York Times': 0, 'The Washington Post': 1, 'Wall Street Journal': 2}\n"
     ]
    }
   ],
   "source": [
    "le = LabelEncoder()\n",
    "# get label name mapping\n",
    "le.fit(y_train)\n",
    "le_name_mapping = dict(zip(le.classes_, le.transform(le.classes_)))\n",
    "print(le_name_mapping)\n",
    "\n",
    "# encode the target \n",
    "y_train = le.fit_transform(y_train)\n",
    "y_test = le.fit_transform(y_test)\n"
   ]
  },
  {
   "cell_type": "markdown",
   "metadata": {},
   "source": [
    "## 3.2 Getting document term matrices "
   ]
  },
  {
   "cell_type": "markdown",
   "metadata": {},
   "source": [
    "### 3.2.1 Create matrix of token counts using unigram, bigram and trigram tokens "
   ]
  },
  {
   "cell_type": "code",
   "execution_count": 21,
   "metadata": {},
   "outputs": [],
   "source": [
    "# define a function to get unigram, bigram, and trigram matrix of token counts\n",
    "\n",
    "def get_DTM(Ngram_range, x_train, x_test):\n",
    "    vectorizer = CountVectorizer(stop_words='english', min_df = int(3), max_df = 0.5, \n",
    "                                 ngram_range = Ngram_range, binary=True) \n",
    "    vectorizer.fit(x_train)\n",
    "    trans_x_train = vectorizer.transform(x_train)\n",
    "    trans_x_test = vectorizer.transform(x_test)\n",
    "    \n",
    "    return trans_x_train, trans_x_test"
   ]
  },
  {
   "cell_type": "code",
   "execution_count": 22,
   "metadata": {},
   "outputs": [],
   "source": [
    "# unigram token counts matrix\n",
    "binary1_train, binary1_test = get_DTM(Ngram_range = (1, 1), x_train = X_train, x_test = X_test)\n",
    "\n",
    "# bigram token counts matrix\n",
    "binary2_train, binary2_test = get_DTM(Ngram_range = (1, 2), x_train = X_train, x_test = X_test)\n",
    "\n",
    "# trigram token counts matrix\n",
    "binary3_train, binary3_test = get_DTM(Ngram_range = (1, 3), x_train = X_train, x_test = X_test)"
   ]
  },
  {
   "cell_type": "code",
   "execution_count": 23,
   "metadata": {},
   "outputs": [
    {
     "name": "stdout",
     "output_type": "stream",
     "text": [
      "The unique terms in binary1_train is: 10507\n",
      "The unique terms in binary2_train is: 71483\n",
      "The unique terms in binary3_train is: 120599\n"
     ]
    }
   ],
   "source": [
    "print(\"The unique terms in binary1_train is:\", binary1_train.toarray().shape[1])\n",
    "print(\"The unique terms in binary2_train is:\", binary2_train.toarray().shape[1])\n",
    "print(\"The unique terms in binary3_train is:\", binary3_train.toarray().shape[1])"
   ]
  },
  {
   "cell_type": "markdown",
   "metadata": {},
   "source": [
    "### 3.2.2 Create DTM using unigram, bigram and trigram term frequency "
   ]
  },
  {
   "cell_type": "code",
   "execution_count": 24,
   "metadata": {},
   "outputs": [],
   "source": [
    "# define a function to get unigram, bigram, and trigram term frequency matrix\n",
    "\n",
    "def get_TF_DTM(Ngram_range, x_train, x_test):\n",
    "    vectorizer = CountVectorizer(stop_words='english', min_df = int(3), max_df = 0.5, ngram_range = Ngram_range) \n",
    "    vectorizer.fit(x_train)\n",
    "    trans_x_train = vectorizer.transform(x_train)\n",
    "    trans_x_test = vectorizer.transform(x_test)\n",
    "    \n",
    "    return trans_x_train, trans_x_test"
   ]
  },
  {
   "cell_type": "code",
   "execution_count": 25,
   "metadata": {},
   "outputs": [],
   "source": [
    "# unigram tf matrix\n",
    "tf1_train, tf1_test = get_TF_DTM(Ngram_range = (1, 1), x_train = X_train, x_test = X_test)\n",
    "\n",
    "# bigram tf matrix\n",
    "tf2_train, tf2_test = get_TF_DTM(Ngram_range = (1, 2), x_train = X_train, x_test = X_test)\n",
    "\n",
    "# trigram tf matrix\n",
    "tf3_train, tf3_test = get_TF_DTM(Ngram_range = (1, 3), x_train = X_train, x_test = X_test)"
   ]
  },
  {
   "cell_type": "code",
   "execution_count": 26,
   "metadata": {},
   "outputs": [
    {
     "name": "stdout",
     "output_type": "stream",
     "text": [
      "The unique terms in tf1_train is: 10507\n",
      "The unique terms in tf2_train is: 71483\n",
      "The unique terms in tf3_train is: 120599\n"
     ]
    }
   ],
   "source": [
    "print(\"The unique terms in tf1_train is:\", tf1_train.toarray().shape[1])\n",
    "print(\"The unique terms in tf2_train is:\", tf2_train.toarray().shape[1])\n",
    "print(\"The unique terms in tf3_train is:\", tf3_train.toarray().shape[1])"
   ]
  },
  {
   "cell_type": "markdown",
   "metadata": {},
   "source": [
    "### 3.2.3 Create DTM using unigram, bigram and trigram TF-IDF "
   ]
  },
  {
   "cell_type": "code",
   "execution_count": 27,
   "metadata": {},
   "outputs": [],
   "source": [
    "# define a function to get unigram, bigram, and trigram TF-IDF matrix\n",
    "\n",
    "def get_TF_IDF_DTM(Ngram_range, x_train, x_test):\n",
    "    vectorizer = TfidfVectorizer(stop_words='english', min_df = int(3), max_df = 0.5, \n",
    "                                 ngram_range = Ngram_range) \n",
    "    vectorizer.fit(x_train)\n",
    "    trans_x_train = vectorizer.transform(x_train)\n",
    "    trans_x_test = vectorizer.transform(x_test)\n",
    "    \n",
    "    return trans_x_train, trans_x_test"
   ]
  },
  {
   "cell_type": "code",
   "execution_count": 28,
   "metadata": {},
   "outputs": [],
   "source": [
    "# unigram tf-idf matrix\n",
    "tfidf1_train, tfidf1_test = get_TF_IDF_DTM(Ngram_range = (1, 1), x_train = X_train, x_test = X_test)\n",
    "\n",
    "# bigram tf-idf matrix\n",
    "tfidf2_train, tfidf2_test = get_TF_IDF_DTM(Ngram_range = (1, 2), x_train = X_train, x_test = X_test)\n",
    "\n",
    "# trigram tf-idf matrix\n",
    "tfidf3_train, tfidf3_test = get_TF_IDF_DTM(Ngram_range = (1, 3), x_train = X_train, x_test = X_test)"
   ]
  },
  {
   "cell_type": "code",
   "execution_count": 29,
   "metadata": {
    "scrolled": true
   },
   "outputs": [
    {
     "name": "stdout",
     "output_type": "stream",
     "text": [
      "The unique terms in tfidf1_train is: 10507\n",
      "The unique terms in tfidf2_train is: 71483\n",
      "The unique terms in tfidf3_train is: 120599\n"
     ]
    }
   ],
   "source": [
    "print(\"The unique terms in tfidf1_train is:\", tfidf1_train.toarray().shape[1])\n",
    "print(\"The unique terms in tfidf2_train is:\", tfidf2_train.toarray().shape[1])\n",
    "print(\"The unique terms in tfidf3_train is:\", tfidf3_train.toarray().shape[1])"
   ]
  },
  {
   "cell_type": "markdown",
   "metadata": {},
   "source": [
    "## 3.3 Modeling "
   ]
  },
  {
   "cell_type": "markdown",
   "metadata": {},
   "source": [
    "### 3.3.1 XGBoost Classifier "
   ]
  },
  {
   "cell_type": "code",
   "execution_count": 30,
   "metadata": {},
   "outputs": [],
   "source": [
    "# define model training\n",
    "def train_model(clf, dtm, test):\n",
    "    # train data\n",
    "    clf.fit(dtm, y_train)\n",
    "    \n",
    "    # Predicting on the test set\n",
    "    preds = clf.predict(test)\n",
    "    \n",
    "    # print evaluation matrix\n",
    "    print(\"Accuracy:\", '{:1.4f}'.format(accuracy_score(y_test, preds)))\n",
    "    print(\"\")\n",
    "    print(classification_report(y_test, preds))\n",
    "    print(\"Confusion Matrix:\")\n",
    "    print(confusion_matrix(y_test, preds))\n",
    "    \n",
    "    return '{:1.4f}'.format(accuracy_score(y_test, preds))"
   ]
  },
  {
   "cell_type": "code",
   "execution_count": 31,
   "metadata": {},
   "outputs": [
    {
     "name": "stdout",
     "output_type": "stream",
     "text": [
      "unigram, binary\n",
      "\n",
      "Accuracy: 1.0000\n",
      "\n",
      "              precision    recall  f1-score   support\n",
      "\n",
      "           0       1.00      1.00      1.00        90\n",
      "           1       1.00      1.00      1.00        90\n",
      "           2       1.00      1.00      1.00        90\n",
      "\n",
      "   micro avg       1.00      1.00      1.00       270\n",
      "   macro avg       1.00      1.00      1.00       270\n",
      "weighted avg       1.00      1.00      1.00       270\n",
      "\n",
      "Confusion Matrix:\n",
      "[[90  0  0]\n",
      " [ 0 90  0]\n",
      " [ 0  0 90]]\n",
      "======================================================\n",
      "\n",
      "bigram, binary\n",
      "\n",
      "Accuracy: 1.0000\n",
      "\n",
      "              precision    recall  f1-score   support\n",
      "\n",
      "           0       1.00      1.00      1.00        90\n",
      "           1       1.00      1.00      1.00        90\n",
      "           2       1.00      1.00      1.00        90\n",
      "\n",
      "   micro avg       1.00      1.00      1.00       270\n",
      "   macro avg       1.00      1.00      1.00       270\n",
      "weighted avg       1.00      1.00      1.00       270\n",
      "\n",
      "Confusion Matrix:\n",
      "[[90  0  0]\n",
      " [ 0 90  0]\n",
      " [ 0  0 90]]\n",
      "======================================================\n",
      "\n",
      "trigram, binary\n",
      "\n",
      "Accuracy: 1.0000\n",
      "\n",
      "              precision    recall  f1-score   support\n",
      "\n",
      "           0       1.00      1.00      1.00        90\n",
      "           1       1.00      1.00      1.00        90\n",
      "           2       1.00      1.00      1.00        90\n",
      "\n",
      "   micro avg       1.00      1.00      1.00       270\n",
      "   macro avg       1.00      1.00      1.00       270\n",
      "weighted avg       1.00      1.00      1.00       270\n",
      "\n",
      "Confusion Matrix:\n",
      "[[90  0  0]\n",
      " [ 0 90  0]\n",
      " [ 0  0 90]]\n",
      "======================================================\n",
      "\n",
      "unigram, TF\n",
      "\n",
      "Accuracy: 1.0000\n",
      "\n",
      "              precision    recall  f1-score   support\n",
      "\n",
      "           0       1.00      1.00      1.00        90\n",
      "           1       1.00      1.00      1.00        90\n",
      "           2       1.00      1.00      1.00        90\n",
      "\n",
      "   micro avg       1.00      1.00      1.00       270\n",
      "   macro avg       1.00      1.00      1.00       270\n",
      "weighted avg       1.00      1.00      1.00       270\n",
      "\n",
      "Confusion Matrix:\n",
      "[[90  0  0]\n",
      " [ 0 90  0]\n",
      " [ 0  0 90]]\n",
      "======================================================\n",
      "\n",
      "bigram, TF\n",
      "\n",
      "Accuracy: 1.0000\n",
      "\n",
      "              precision    recall  f1-score   support\n",
      "\n",
      "           0       1.00      1.00      1.00        90\n",
      "           1       1.00      1.00      1.00        90\n",
      "           2       1.00      1.00      1.00        90\n",
      "\n",
      "   micro avg       1.00      1.00      1.00       270\n",
      "   macro avg       1.00      1.00      1.00       270\n",
      "weighted avg       1.00      1.00      1.00       270\n",
      "\n",
      "Confusion Matrix:\n",
      "[[90  0  0]\n",
      " [ 0 90  0]\n",
      " [ 0  0 90]]\n",
      "======================================================\n",
      "\n",
      "trigram, TF\n",
      "\n",
      "Accuracy: 1.0000\n",
      "\n",
      "              precision    recall  f1-score   support\n",
      "\n",
      "           0       1.00      1.00      1.00        90\n",
      "           1       1.00      1.00      1.00        90\n",
      "           2       1.00      1.00      1.00        90\n",
      "\n",
      "   micro avg       1.00      1.00      1.00       270\n",
      "   macro avg       1.00      1.00      1.00       270\n",
      "weighted avg       1.00      1.00      1.00       270\n",
      "\n",
      "Confusion Matrix:\n",
      "[[90  0  0]\n",
      " [ 0 90  0]\n",
      " [ 0  0 90]]\n",
      "======================================================\n",
      "\n",
      "unigram, TF-IDF\n",
      "\n",
      "Accuracy: 1.0000\n",
      "\n",
      "              precision    recall  f1-score   support\n",
      "\n",
      "           0       1.00      1.00      1.00        90\n",
      "           1       1.00      1.00      1.00        90\n",
      "           2       1.00      1.00      1.00        90\n",
      "\n",
      "   micro avg       1.00      1.00      1.00       270\n",
      "   macro avg       1.00      1.00      1.00       270\n",
      "weighted avg       1.00      1.00      1.00       270\n",
      "\n",
      "Confusion Matrix:\n",
      "[[90  0  0]\n",
      " [ 0 90  0]\n",
      " [ 0  0 90]]\n",
      "======================================================\n",
      "\n",
      "bigram, TF-IDF\n",
      "\n",
      "Accuracy: 1.0000\n",
      "\n",
      "              precision    recall  f1-score   support\n",
      "\n",
      "           0       1.00      1.00      1.00        90\n",
      "           1       1.00      1.00      1.00        90\n",
      "           2       1.00      1.00      1.00        90\n",
      "\n",
      "   micro avg       1.00      1.00      1.00       270\n",
      "   macro avg       1.00      1.00      1.00       270\n",
      "weighted avg       1.00      1.00      1.00       270\n",
      "\n",
      "Confusion Matrix:\n",
      "[[90  0  0]\n",
      " [ 0 90  0]\n",
      " [ 0  0 90]]\n",
      "======================================================\n",
      "\n",
      "trigram, TF-IDF\n",
      "\n",
      "Accuracy: 1.0000\n",
      "\n",
      "              precision    recall  f1-score   support\n",
      "\n",
      "           0       1.00      1.00      1.00        90\n",
      "           1       1.00      1.00      1.00        90\n",
      "           2       1.00      1.00      1.00        90\n",
      "\n",
      "   micro avg       1.00      1.00      1.00       270\n",
      "   macro avg       1.00      1.00      1.00       270\n",
      "weighted avg       1.00      1.00      1.00       270\n",
      "\n",
      "Confusion Matrix:\n",
      "[[90  0  0]\n",
      " [ 0 90  0]\n",
      " [ 0  0 90]]\n",
      "======================================================\n",
      "\n"
     ]
    }
   ],
   "source": [
    "# Use Naive Bayes\n",
    "#clf = XGBClassifier() #MultinomialNB()\n",
    "#clf = svm.SVC(gamma = 'scale', C = 1.0)\n",
    "param = {'max_depth': 3, 'eta': 0.3, 'objective':'multi:softmax', 'num_class': 3}\n",
    "xgb_clf = XGBClassifier(param)\n",
    "svm_clf = svm.SVC(gamma = 'scale', C = 1.0)\n",
    "# reference: https://medium.com/@gabrielziegler3/multiclass-multilabel-classification-with-xgboost-66195e4d9f2d\n",
    "# reference: https://xgboost.readthedocs.io/en/latest/parameter.html\n",
    "\n",
    "# Model Configurations\n",
    "binary1 = (\"unigram, binary\", binary1_train, binary1_test)\n",
    "binary2 = (\"bigram, binary\",  binary2_train, binary2_test)\n",
    "binary3 = (\"trigram, binary\", binary3_train, binary3_test)\n",
    "tf1 = (\"unigram, TF\", tf1_train, tf1_test)\n",
    "tf2 = (\"bigram, TF\",  tf2_train, tf2_test)\n",
    "tf3 = (\"trigram, TF\", tf3_train, tf3_test)\n",
    "tfidf1 = (\"unigram, TF-IDF\", tfidf1_train, tfidf1_test)\n",
    "tfidf2 = (\"bigram, TF-IDF\",  tfidf2_train, tfidf2_test)\n",
    "tfidf3 = (\"trigram, TF-IDF\", tfidf3_train, tfidf3_test)\n",
    "DTMs = [binary1, binary2, binary3,\n",
    "        tf1, tf2, tf3,\n",
    "        tfidf1, tfidf2, tfidf3]\n",
    "\n",
    "df = pd.DataFrame({\"config\": [],\n",
    "                   \"accuracy\": []})\n",
    "best_config = [\"Best Configuration\", \"none\", 0, \"none\", \"none\"]\n",
    "for data in DTMs:\n",
    "    print(data[0])\n",
    "    print(\"\")\n",
    "    score = train_model(clf = xgb_clf, dtm = data[1], test = data[2])\n",
    "    print(\"======================================================\")\n",
    "    print(\"\")\n",
    "    if float(score) > float(best_config[2]):\n",
    "        best_config = [\"Best Configuration:\", data[0], score, data[1], data[2]]\n",
    "    df = df.append({\"config\": data[0],\n",
    "               \"accuracy\": float(score)},\n",
    "               ignore_index=True)"
   ]
  },
  {
   "cell_type": "code",
   "execution_count": 32,
   "metadata": {},
   "outputs": [
    {
     "data": {
      "text/html": [
       "<div>\n",
       "<style scoped>\n",
       "    .dataframe tbody tr th:only-of-type {\n",
       "        vertical-align: middle;\n",
       "    }\n",
       "\n",
       "    .dataframe tbody tr th {\n",
       "        vertical-align: top;\n",
       "    }\n",
       "\n",
       "    .dataframe thead th {\n",
       "        text-align: right;\n",
       "    }\n",
       "</style>\n",
       "<table border=\"1\" class=\"dataframe\">\n",
       "  <thead>\n",
       "    <tr style=\"text-align: right;\">\n",
       "      <th></th>\n",
       "      <th>config</th>\n",
       "      <th>accuracy</th>\n",
       "    </tr>\n",
       "  </thead>\n",
       "  <tbody>\n",
       "    <tr>\n",
       "      <th>0</th>\n",
       "      <td>unigram, binary</td>\n",
       "      <td>1.0</td>\n",
       "    </tr>\n",
       "    <tr>\n",
       "      <th>1</th>\n",
       "      <td>bigram, binary</td>\n",
       "      <td>1.0</td>\n",
       "    </tr>\n",
       "    <tr>\n",
       "      <th>2</th>\n",
       "      <td>trigram, binary</td>\n",
       "      <td>1.0</td>\n",
       "    </tr>\n",
       "    <tr>\n",
       "      <th>3</th>\n",
       "      <td>unigram, TF</td>\n",
       "      <td>1.0</td>\n",
       "    </tr>\n",
       "    <tr>\n",
       "      <th>4</th>\n",
       "      <td>bigram, TF</td>\n",
       "      <td>1.0</td>\n",
       "    </tr>\n",
       "    <tr>\n",
       "      <th>5</th>\n",
       "      <td>trigram, TF</td>\n",
       "      <td>1.0</td>\n",
       "    </tr>\n",
       "    <tr>\n",
       "      <th>6</th>\n",
       "      <td>unigram, TF-IDF</td>\n",
       "      <td>1.0</td>\n",
       "    </tr>\n",
       "    <tr>\n",
       "      <th>7</th>\n",
       "      <td>bigram, TF-IDF</td>\n",
       "      <td>1.0</td>\n",
       "    </tr>\n",
       "    <tr>\n",
       "      <th>8</th>\n",
       "      <td>trigram, TF-IDF</td>\n",
       "      <td>1.0</td>\n",
       "    </tr>\n",
       "  </tbody>\n",
       "</table>\n",
       "</div>"
      ],
      "text/plain": [
       "            config  accuracy\n",
       "0  unigram, binary       1.0\n",
       "1   bigram, binary       1.0\n",
       "2  trigram, binary       1.0\n",
       "3      unigram, TF       1.0\n",
       "4       bigram, TF       1.0\n",
       "5      trigram, TF       1.0\n",
       "6  unigram, TF-IDF       1.0\n",
       "7   bigram, TF-IDF       1.0\n",
       "8  trigram, TF-IDF       1.0"
      ]
     },
     "execution_count": 32,
     "metadata": {},
     "output_type": "execute_result"
    }
   ],
   "source": [
    "# results of xgb classifier\n",
    "df"
   ]
  },
  {
   "cell_type": "code",
   "execution_count": 33,
   "metadata": {},
   "outputs": [
    {
     "name": "stdout",
     "output_type": "stream",
     "text": [
      "['Best Configuration:', 'unigram, binary', '1.0000', <1080x10507 sparse matrix of type '<class 'numpy.int64'>'\n",
      "\twith 359012 stored elements in Compressed Sparse Row format>, <270x10507 sparse matrix of type '<class 'numpy.int64'>'\n",
      "\twith 88076 stored elements in Compressed Sparse Row format>]\n"
     ]
    }
   ],
   "source": [
    "# best model\n",
    "print(best_config)"
   ]
  },
  {
   "cell_type": "code",
   "execution_count": 34,
   "metadata": {},
   "outputs": [],
   "source": [
    "# Best Configuration\n",
    "xgb_clf.fit(best_config[3], y_train)\n",
    "\n",
    "# predictions on the test data\n",
    "preds = xgb_clf.predict(best_config[4])\n",
    "\n",
    "# feature importance\n",
    "importances = xgb_clf.feature_importances_\n",
    "\n",
    "# Sort feature importances in descending order\n",
    "indices = np.argsort(importances)[::-1]\n",
    "\n",
    "# Rearrange feature names so they match the sorted feature importances\n",
    "vectorizer = CountVectorizer(stop_words='english', min_df = int(3), max_df = 0.5, ngram_range = (1,2), binary=True) \n",
    "vectorizer.fit(X_train)\n",
    "names = [vectorizer.get_feature_names()[i] for i in indices]"
   ]
  },
  {
   "cell_type": "code",
   "execution_count": 35,
   "metadata": {},
   "outputs": [
    {
     "data": {
      "text/plain": [
       "['ani way',\n",
       " 'bloomberg gave',\n",
       " 'ambiti women',\n",
       " 'avalanch phone',\n",
       " 'accomplish chang',\n",
       " 'activ got',\n",
       " 'bloomberg great',\n",
       " 'beau biden',\n",
       " 'abandon hi',\n",
       " 'audiobook',\n",
       " 'advis support',\n",
       " 'candid didnt',\n",
       " 'acknowledg anyth',\n",
       " 'challeng ha',\n",
       " 'cassidi la',\n",
       " 'author discuss',\n",
       " 'accord parti',\n",
       " 'africanamerican conserv',\n",
       " 'agreement lawmr',\n",
       " 'allow use',\n",
       " 'addit',\n",
       " 'barrag',\n",
       " 'book research',\n",
       " 'build winneshiek',\n",
       " 'agreement mr',\n",
       " 'bring attent',\n",
       " 'break presid',\n",
       " 'best face',\n",
       " 'bubbl',\n",
       " 'ad accus',\n",
       " 'ad need',\n",
       " 'account told',\n",
       " 'ahead becaus',\n",
       " 'arm steve',\n",
       " 'aaron zitner',\n",
       " 'ani subpoena',\n",
       " 'activ wa',\n",
       " 'administr appear',\n",
       " 'adversari like',\n",
       " 'agenda sell',\n",
       " 'becam friend',\n",
       " 'affordablein hi',\n",
       " 'broader elector',\n",
       " 'bluer',\n",
       " 'bloomberg absenc',\n",
       " 'beat vice',\n",
       " 'campaign arm',\n",
       " 'begin trump',\n",
       " 'analyt said',\n",
       " 'care respons']"
      ]
     },
     "execution_count": 35,
     "metadata": {},
     "output_type": "execute_result"
    }
   ],
   "source": [
    "# Main features\n",
    "names[0:50]"
   ]
  },
  {
   "cell_type": "code",
   "execution_count": 36,
   "metadata": {},
   "outputs": [
    {
     "data": {
      "image/png": "[encoded data removed]",
      "text/plain": [
       "<Figure size 432x288 with 1 Axes>"
      ]
     },
     "metadata": {
      "needs_background": "light"
     },
     "output_type": "display_data"
    }
   ],
   "source": [
    "num_features = 20\n",
    "\n",
    "# Create plot\n",
    "plt.figure()\n",
    "\n",
    "# Create plot title\n",
    "plt.title(\"Feature Importance\")\n",
    "\n",
    "# Add bars\n",
    "plt.bar(range(num_features), importances[indices][0:num_features])\n",
    "\n",
    "# Add feature names as x-axis labels\n",
    "plt.xticks(range(num_features), names[0:num_features], rotation=90)\n",
    "\n",
    "# Show plot\n",
    "plt.show()"
   ]
  },
  {
   "cell_type": "code",
   "execution_count": null,
   "metadata": {},
   "outputs": [],
   "source": []
  },
  {
   "cell_type": "markdown",
   "metadata": {},
   "source": [
    "### 3.3.2 SVM Classifier "
   ]
  },
  {
   "cell_type": "code",
   "execution_count": 40,
   "metadata": {},
   "outputs": [
    {
     "name": "stdout",
     "output_type": "stream",
     "text": [
      "unigram, binary\n",
      "\n",
      "Accuracy: 0.9963\n",
      "\n",
      "              precision    recall  f1-score   support\n",
      "\n",
      "           0       1.00      0.99      0.99        90\n",
      "           1       1.00      1.00      1.00        90\n",
      "           2       0.99      1.00      0.99        90\n",
      "\n",
      "   micro avg       1.00      1.00      1.00       270\n",
      "   macro avg       1.00      1.00      1.00       270\n",
      "weighted avg       1.00      1.00      1.00       270\n",
      "\n",
      "Confusion Matrix:\n",
      "[[89  0  1]\n",
      " [ 0 90  0]\n",
      " [ 0  0 90]]\n",
      "======================================================\n",
      "\n",
      "bigram, binary\n",
      "\n",
      "Accuracy: 0.9963\n",
      "\n",
      "              precision    recall  f1-score   support\n",
      "\n",
      "           0       1.00      0.99      0.99        90\n",
      "           1       1.00      1.00      1.00        90\n",
      "           2       0.99      1.00      0.99        90\n",
      "\n",
      "   micro avg       1.00      1.00      1.00       270\n",
      "   macro avg       1.00      1.00      1.00       270\n",
      "weighted avg       1.00      1.00      1.00       270\n",
      "\n",
      "Confusion Matrix:\n",
      "[[89  0  1]\n",
      " [ 0 90  0]\n",
      " [ 0  0 90]]\n",
      "======================================================\n",
      "\n",
      "trigram, binary\n",
      "\n",
      "Accuracy: 1.0000\n",
      "\n",
      "              precision    recall  f1-score   support\n",
      "\n",
      "           0       1.00      1.00      1.00        90\n",
      "           1       1.00      1.00      1.00        90\n",
      "           2       1.00      1.00      1.00        90\n",
      "\n",
      "   micro avg       1.00      1.00      1.00       270\n",
      "   macro avg       1.00      1.00      1.00       270\n",
      "weighted avg       1.00      1.00      1.00       270\n",
      "\n",
      "Confusion Matrix:\n",
      "[[90  0  0]\n",
      " [ 0 90  0]\n",
      " [ 0  0 90]]\n",
      "======================================================\n",
      "\n",
      "unigram, TF\n",
      "\n",
      "Accuracy: 0.9481\n",
      "\n",
      "              precision    recall  f1-score   support\n",
      "\n",
      "           0       0.97      0.92      0.94        90\n",
      "           1       0.98      0.93      0.95        90\n",
      "           2       0.91      0.99      0.95        90\n",
      "\n",
      "   micro avg       0.95      0.95      0.95       270\n",
      "   macro avg       0.95      0.95      0.95       270\n",
      "weighted avg       0.95      0.95      0.95       270\n",
      "\n",
      "Confusion Matrix:\n",
      "[[83  2  5]\n",
      " [ 2 84  4]\n",
      " [ 1  0 89]]\n",
      "======================================================\n",
      "\n",
      "bigram, TF\n",
      "\n",
      "Accuracy: 0.9667\n",
      "\n",
      "              precision    recall  f1-score   support\n",
      "\n",
      "           0       1.00      0.91      0.95        90\n",
      "           1       0.94      1.00      0.97        90\n",
      "           2       0.97      0.99      0.98        90\n",
      "\n",
      "   micro avg       0.97      0.97      0.97       270\n",
      "   macro avg       0.97      0.97      0.97       270\n",
      "weighted avg       0.97      0.97      0.97       270\n",
      "\n",
      "Confusion Matrix:\n",
      "[[82  5  3]\n",
      " [ 0 90  0]\n",
      " [ 0  1 89]]\n",
      "======================================================\n",
      "\n",
      "trigram, TF\n",
      "\n",
      "Accuracy: 0.9815\n",
      "\n",
      "              precision    recall  f1-score   support\n",
      "\n",
      "           0       1.00      0.94      0.97        90\n",
      "           1       0.97      1.00      0.98        90\n",
      "           2       0.98      1.00      0.99        90\n",
      "\n",
      "   micro avg       0.98      0.98      0.98       270\n",
      "   macro avg       0.98      0.98      0.98       270\n",
      "weighted avg       0.98      0.98      0.98       270\n",
      "\n",
      "Confusion Matrix:\n",
      "[[85  3  2]\n",
      " [ 0 90  0]\n",
      " [ 0  0 90]]\n",
      "======================================================\n",
      "\n",
      "unigram, TF-IDF\n",
      "\n",
      "Accuracy: 0.8259\n",
      "\n",
      "              precision    recall  f1-score   support\n",
      "\n",
      "           0       0.84      0.64      0.73        90\n",
      "           1       0.73      0.99      0.84        90\n",
      "           2       0.96      0.84      0.90        90\n",
      "\n",
      "   micro avg       0.83      0.83      0.83       270\n",
      "   macro avg       0.84      0.83      0.82       270\n",
      "weighted avg       0.84      0.83      0.82       270\n",
      "\n",
      "Confusion Matrix:\n",
      "[[58 30  2]\n",
      " [ 0 89  1]\n",
      " [11  3 76]]\n",
      "======================================================\n",
      "\n",
      "bigram, TF-IDF\n",
      "\n",
      "Accuracy: 0.7556\n",
      "\n",
      "              precision    recall  f1-score   support\n",
      "\n",
      "           0       0.86      0.54      0.67        90\n",
      "           1       0.61      1.00      0.76        90\n",
      "           2       1.00      0.72      0.84        90\n",
      "\n",
      "   micro avg       0.76      0.76      0.76       270\n",
      "   macro avg       0.82      0.76      0.75       270\n",
      "weighted avg       0.82      0.76      0.75       270\n",
      "\n",
      "Confusion Matrix:\n",
      "[[49 41  0]\n",
      " [ 0 90  0]\n",
      " [ 8 17 65]]\n",
      "======================================================\n",
      "\n",
      "trigram, TF-IDF\n",
      "\n",
      "Accuracy: 0.8185\n",
      "\n",
      "              precision    recall  f1-score   support\n",
      "\n",
      "           0       0.91      0.59      0.72        90\n",
      "           1       0.67      1.00      0.80        90\n",
      "           2       1.00      0.87      0.93        90\n",
      "\n",
      "   micro avg       0.82      0.82      0.82       270\n",
      "   macro avg       0.86      0.82      0.82       270\n",
      "weighted avg       0.86      0.82      0.82       270\n",
      "\n",
      "Confusion Matrix:\n",
      "[[53 37  0]\n",
      " [ 0 90  0]\n",
      " [ 5  7 78]]\n",
      "======================================================\n",
      "\n"
     ]
    }
   ],
   "source": [
    "# svm classifier\n",
    "df_svm = pd.DataFrame({\"config\": [],\n",
    "                   \"accuracy\": []})\n",
    "best_config_svm = [\"Best Configuration\", \"none\", 0, \"none\", \"none\"]\n",
    "for data in DTMs:\n",
    "    print(data[0])\n",
    "    print(\"\")\n",
    "    score = train_model(clf = svm_clf, dtm = data[1], test = data[2])\n",
    "    print(\"======================================================\")\n",
    "    print(\"\")\n",
    "    if float(score) > float(best_config_svm[2]):\n",
    "        best_config_svm = [\"Best Configuration:\", data[0], score, data[1], data[2]]\n",
    "    df_svm = df_svm.append({\"config\": data[0],\n",
    "               \"accuracy\": float(score)},\n",
    "               ignore_index=True)"
   ]
  },
  {
   "cell_type": "code",
   "execution_count": 41,
   "metadata": {},
   "outputs": [
    {
     "data": {
      "text/html": [
       "<div>\n",
       "<style scoped>\n",
       "    .dataframe tbody tr th:only-of-type {\n",
       "        vertical-align: middle;\n",
       "    }\n",
       "\n",
       "    .dataframe tbody tr th {\n",
       "        vertical-align: top;\n",
       "    }\n",
       "\n",
       "    .dataframe thead th {\n",
       "        text-align: right;\n",
       "    }\n",
       "</style>\n",
       "<table border=\"1\" class=\"dataframe\">\n",
       "  <thead>\n",
       "    <tr style=\"text-align: right;\">\n",
       "      <th></th>\n",
       "      <th>config</th>\n",
       "      <th>accuracy</th>\n",
       "    </tr>\n",
       "  </thead>\n",
       "  <tbody>\n",
       "    <tr>\n",
       "      <th>0</th>\n",
       "      <td>unigram, binary</td>\n",
       "      <td>0.9963</td>\n",
       "    </tr>\n",
       "    <tr>\n",
       "      <th>1</th>\n",
       "      <td>bigram, binary</td>\n",
       "      <td>0.9963</td>\n",
       "    </tr>\n",
       "    <tr>\n",
       "      <th>2</th>\n",
       "      <td>trigram, binary</td>\n",
       "      <td>1.0000</td>\n",
       "    </tr>\n",
       "    <tr>\n",
       "      <th>3</th>\n",
       "      <td>unigram, TF</td>\n",
       "      <td>0.9481</td>\n",
       "    </tr>\n",
       "    <tr>\n",
       "      <th>4</th>\n",
       "      <td>bigram, TF</td>\n",
       "      <td>0.9667</td>\n",
       "    </tr>\n",
       "    <tr>\n",
       "      <th>5</th>\n",
       "      <td>trigram, TF</td>\n",
       "      <td>0.9815</td>\n",
       "    </tr>\n",
       "    <tr>\n",
       "      <th>6</th>\n",
       "      <td>unigram, TF-IDF</td>\n",
       "      <td>0.8259</td>\n",
       "    </tr>\n",
       "    <tr>\n",
       "      <th>7</th>\n",
       "      <td>bigram, TF-IDF</td>\n",
       "      <td>0.7556</td>\n",
       "    </tr>\n",
       "    <tr>\n",
       "      <th>8</th>\n",
       "      <td>trigram, TF-IDF</td>\n",
       "      <td>0.8185</td>\n",
       "    </tr>\n",
       "  </tbody>\n",
       "</table>\n",
       "</div>"
      ],
      "text/plain": [
       "            config  accuracy\n",
       "0  unigram, binary    0.9963\n",
       "1   bigram, binary    0.9963\n",
       "2  trigram, binary    1.0000\n",
       "3      unigram, TF    0.9481\n",
       "4       bigram, TF    0.9667\n",
       "5      trigram, TF    0.9815\n",
       "6  unigram, TF-IDF    0.8259\n",
       "7   bigram, TF-IDF    0.7556\n",
       "8  trigram, TF-IDF    0.8185"
      ]
     },
     "execution_count": 41,
     "metadata": {},
     "output_type": "execute_result"
    }
   ],
   "source": [
    "# results of svm classifier\n",
    "df_svm"
   ]
  },
  {
   "cell_type": "code",
   "execution_count": 42,
   "metadata": {},
   "outputs": [
    {
     "name": "stdout",
     "output_type": "stream",
     "text": [
      "['Best Configuration:', 'trigram, binary', '1.0000', <1080x120599 sparse matrix of type '<class 'numpy.int64'>'\n",
      "\twith 1006998 stored elements in Compressed Sparse Row format>, <270x120599 sparse matrix of type '<class 'numpy.int64'>'\n",
      "\twith 213614 stored elements in Compressed Sparse Row format>]\n"
     ]
    }
   ],
   "source": [
    "# best model\n",
    "print(best_config_svm)"
   ]
  },
  {
   "cell_type": "code",
   "execution_count": null,
   "metadata": {},
   "outputs": [],
   "source": []
  }
 ],
 "metadata": {
  "kernelspec": {
   "display_name": "Python 3",
   "language": "python",
   "name": "python3"
  },
  "language_info": {
   "codemirror_mode": {
    "name": "ipython",
    "version": 3
   },
   "file_extension": ".py",
   "mimetype": "text/x-python",
   "name": "python",
   "nbconvert_exporter": "python",
   "pygments_lexer": "ipython3",
   "version": "3.6.5"
  }
 },
 "nbformat": 4,
 "nbformat_minor": 4
}
